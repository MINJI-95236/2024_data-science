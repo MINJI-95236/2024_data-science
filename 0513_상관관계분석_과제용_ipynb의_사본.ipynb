{
  "nbformat": 4,
  "nbformat_minor": 0,
  "metadata": {
    "colab": {
      "provenance": [],
      "authorship_tag": "ABX9TyNyzZJJXh/Y1Y0kLnus5Qoe",
      "include_colab_link": true
    },
    "kernelspec": {
      "name": "python3",
      "display_name": "Python 3"
    },
    "language_info": {
      "name": "python"
    }
  },
  "cells": [
    {
      "cell_type": "markdown",
      "metadata": {
        "id": "view-in-github",
        "colab_type": "text"
      },
      "source": [
        "<a href=\"https://colab.research.google.com/github/MINJI-95236/2024_data-science/blob/main/0513_%EC%83%81%EA%B4%80%EA%B4%80%EA%B3%84%EB%B6%84%EC%84%9D_%EA%B3%BC%EC%A0%9C%EC%9A%A9_ipynb%EC%9D%98_%EC%82%AC%EB%B3%B8.ipynb\" target=\"_parent\"><img src=\"https://colab.research.google.com/assets/colab-badge.svg\" alt=\"Open In Colab\"/></a>"
      ]
    },
    {
      "cell_type": "markdown",
      "source": [
        "# 강수량에 따른 평균기온의 변화에 대한 상관관계 분석"
      ],
      "metadata": {
        "id": "uU_Ppy62IixE"
      }
    },
    {
      "cell_type": "markdown",
      "source": [
        "## ** 맷플롯립 시각화를 위한 글꼴 설치**\n",
        "\n",
        "*  맷플롯립 시각화를 위한 글꼴 설치\n",
        "* 실행후, [런타임]-[세션 다시 시작] 후 다음 코드부터 실행\n",
        "\n"
      ],
      "metadata": {
        "id": "3caeGlRUIn9J"
      }
    },
    {
      "cell_type": "code",
      "source": [
        "#맷플롯립 시각화를 위한 글꼴 설치\n",
        "#실행후, [런타임]-[세션 다시 시작] 후 다음 코드부터 실행\n",
        "\n",
        "!sudo apt-get install -y fonts-nanum\n",
        "!sudo fc-cache -fv\n",
        "!rm ~/.cache/matplotlib -rf"
      ],
      "metadata": {
        "id": "H0b9ereq95iW",
        "colab": {
          "base_uri": "https://localhost:8080/"
        },
        "outputId": "961d3951-ef91-41b8-e4c2-99306f5b2cb8"
      },
      "execution_count": null,
      "outputs": [
        {
          "output_type": "stream",
          "name": "stdout",
          "text": [
            "Reading package lists... Done\n",
            "Building dependency tree... Done\n",
            "Reading state information... Done\n",
            "The following NEW packages will be installed:\n",
            "  fonts-nanum\n",
            "0 upgraded, 1 newly installed, 0 to remove and 45 not upgraded.\n",
            "Need to get 10.3 MB of archives.\n",
            "After this operation, 34.1 MB of additional disk space will be used.\n",
            "Get:1 http://archive.ubuntu.com/ubuntu jammy/universe amd64 fonts-nanum all 20200506-1 [10.3 MB]\n",
            "Fetched 10.3 MB in 3s (3,593 kB/s)\n",
            "debconf: unable to initialize frontend: Dialog\n",
            "debconf: (No usable dialog-like program is installed, so the dialog based frontend cannot be used. at /usr/share/perl5/Debconf/FrontEnd/Dialog.pm line 78, <> line 1.)\n",
            "debconf: falling back to frontend: Readline\n",
            "debconf: unable to initialize frontend: Readline\n",
            "debconf: (This frontend requires a controlling tty.)\n",
            "debconf: falling back to frontend: Teletype\n",
            "dpkg-preconfigure: unable to re-open stdin: \n",
            "Selecting previously unselected package fonts-nanum.\n",
            "(Reading database ... 121918 files and directories currently installed.)\n",
            "Preparing to unpack .../fonts-nanum_20200506-1_all.deb ...\n",
            "Unpacking fonts-nanum (20200506-1) ...\n",
            "Setting up fonts-nanum (20200506-1) ...\n",
            "Processing triggers for fontconfig (2.13.1-4.2ubuntu5) ...\n",
            "/usr/share/fonts: caching, new cache contents: 0 fonts, 1 dirs\n",
            "/usr/share/fonts/truetype: caching, new cache contents: 0 fonts, 3 dirs\n",
            "/usr/share/fonts/truetype/humor-sans: caching, new cache contents: 1 fonts, 0 dirs\n",
            "/usr/share/fonts/truetype/liberation: caching, new cache contents: 16 fonts, 0 dirs\n",
            "/usr/share/fonts/truetype/nanum: caching, new cache contents: 12 fonts, 0 dirs\n",
            "/usr/local/share/fonts: caching, new cache contents: 0 fonts, 0 dirs\n",
            "/root/.local/share/fonts: skipping, no such directory\n",
            "/root/.fonts: skipping, no such directory\n",
            "/usr/share/fonts/truetype: skipping, looped directory detected\n",
            "/usr/share/fonts/truetype/humor-sans: skipping, looped directory detected\n",
            "/usr/share/fonts/truetype/liberation: skipping, looped directory detected\n",
            "/usr/share/fonts/truetype/nanum: skipping, looped directory detected\n",
            "/var/cache/fontconfig: cleaning cache directory\n",
            "/root/.cache/fontconfig: not cleaning non-existent cache directory\n",
            "/root/.fontconfig: not cleaning non-existent cache directory\n",
            "fc-cache: succeeded\n"
          ]
        }
      ]
    },
    {
      "cell_type": "markdown",
      "source": [
        "## 판다스와 맷플롯립 라이브러리 불러오기(아래 코드를 그대로 실행하세요)"
      ],
      "metadata": {
        "id": "WVcDMMZBI7t0"
      }
    },
    {
      "cell_type": "code",
      "source": [
        "import pandas as pd\n",
        "import matplotlib.pyplot as plt"
      ],
      "metadata": {
        "id": "LLdHQ7xkCt9Q"
      },
      "execution_count": null,
      "outputs": []
    },
    {
      "cell_type": "markdown",
      "source": [
        "## 데이터 불러오기 및 데이터 전처리(아래 코드를 그대로 실행하세요)"
      ],
      "metadata": {
        "id": "ZuDZgopAI-dO"
      }
    },
    {
      "cell_type": "code",
      "source": [
        "df = pd.read_csv('summer_daejeon.csv')\n",
        "df.head() #가장 상위 5개 데이터 출력하기"
      ],
      "metadata": {
        "id": "8VBeKXRJKfvR"
      },
      "execution_count": null,
      "outputs": []
    },
    {
      "cell_type": "code",
      "source": [
        "#컬럼별 결측치 갯수\n",
        "df.isnull().sum()"
      ],
      "metadata": {
        "id": "e_PWpRxmI31E"
      },
      "execution_count": null,
      "outputs": []
    },
    {
      "cell_type": "code",
      "source": [
        "#결측치를 모두 0으로 채우기\n",
        "df.fillna(0,inplace=True)"
      ],
      "metadata": {
        "id": "3HgnJD76p8Nr"
      },
      "execution_count": null,
      "outputs": []
    },
    {
      "cell_type": "code",
      "source": [
        "#df.isnull()을 한번더 작성하여 결측치가 모두 사라졌는지 확인\n",
        "\n",
        "df.isnull().sum()"
      ],
      "metadata": {
        "id": "fO1hzjYmJBY3"
      },
      "execution_count": null,
      "outputs": []
    },
    {
      "cell_type": "markdown",
      "source": [
        "## 강수량과 평균기온의 데이터 파악하기(아래 코드를 그대로 실행하세요)"
      ],
      "metadata": {
        "id": "tnC85wHYJA8w"
      }
    },
    {
      "cell_type": "code",
      "source": [
        "max_temp = df['평균기온(℃)'].max()\n",
        "\n",
        "df.loc[df['평균기온(℃)']==max_temp, ['날짜','평균기온(℃)']]"
      ],
      "metadata": {
        "id": "1xfGQUBa-19k"
      },
      "execution_count": null,
      "outputs": []
    },
    {
      "cell_type": "code",
      "source": [
        "min_temp = df['평균기온(℃)'].min()\n",
        "\n",
        "df.loc[df['평균기온(℃)']==min_temp, ['날짜','평균기온(℃)']]"
      ],
      "metadata": {
        "id": "RaqIgj5f_fKc"
      },
      "execution_count": null,
      "outputs": []
    },
    {
      "cell_type": "code",
      "source": [
        "max_rainfall = df['강수량(mm)'].max()\n",
        "\n",
        "df.loc[df['강수량(mm)']==max_rainfall, ['날짜','강수량(mm)']]"
      ],
      "metadata": {
        "id": "bg0C9iKfF93l"
      },
      "execution_count": null,
      "outputs": []
    },
    {
      "cell_type": "code",
      "source": [
        "min_rainfall = df[df['강수량(mm)'] > 0]['강수량(mm)'].min()\n",
        "df.loc[df['강수량(mm)']==min_rainfall, ['날짜','강수량(mm)']]"
      ],
      "metadata": {
        "id": "I5gxgu4ctFDB"
      },
      "execution_count": null,
      "outputs": []
    },
    {
      "cell_type": "markdown",
      "source": [
        "## 상관계수 파악하기(오늘 수업한 내용과 노션 자료를 참고하여 코드를 완성한다음 실행하세요.)"
      ],
      "metadata": {
        "id": "2cKkSLK2JIlk"
      }
    },
    {
      "cell_type": "code",
      "source": [
        "df[[           ]].corr()"
      ],
      "metadata": {
        "id": "e88P8o-1u2Oh"
      },
      "execution_count": null,
      "outputs": []
    },
    {
      "cell_type": "markdown",
      "source": [
        "## 상관관계 분석을 위한 시각화(아래 코드를 그대로 실행하세요)"
      ],
      "metadata": {
        "id": "bnlwREDzJKCU"
      }
    },
    {
      "cell_type": "code",
      "source": [
        "plt.rc(\"font\", family='NanumGothic')\n",
        "\n",
        "plt.figure(figsize=(10,6))\n",
        "\n",
        "plt.scatter(df['강수량(mm)'],df['평균기온(℃)'],color='blue')\n",
        "\n",
        "plt.title('강수량에 따른 평균기온의 변화에 대한 상관관계 분석')\n",
        "\n",
        "plt.xlabel('강수량(mm)')\n",
        "plt.ylabel('평균기온(℃)')\n",
        "plt.grid(True)\n",
        "\n",
        "plt.show()"
      ],
      "metadata": {
        "id": "R7Rnguqm_vuD"
      },
      "execution_count": null,
      "outputs": []
    }
  ]
}