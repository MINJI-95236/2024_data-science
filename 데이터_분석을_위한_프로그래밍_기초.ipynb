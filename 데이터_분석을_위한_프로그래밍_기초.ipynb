{
  "nbformat": 4,
  "nbformat_minor": 0,
  "metadata": {
    "colab": {
      "provenance": [],
      "authorship_tag": "ABX9TyMfZQ0bQvBHbB0je8jmwY7A",
      "include_colab_link": true
    },
    "kernelspec": {
      "name": "python3",
      "display_name": "Python 3"
    },
    "language_info": {
      "name": "python"
    }
  },
  "cells": [
    {
      "cell_type": "markdown",
      "metadata": {
        "id": "view-in-github",
        "colab_type": "text"
      },
      "source": [
        "<a href=\"https://colab.research.google.com/github/MINJI-95236/data/blob/main/%EB%8D%B0%EC%9D%B4%ED%84%B0_%EB%B6%84%EC%84%9D%EC%9D%84_%EC%9C%84%ED%95%9C_%ED%94%84%EB%A1%9C%EA%B7%B8%EB%9E%98%EB%B0%8D_%EA%B8%B0%EC%B4%88.ipynb\" target=\"_parent\"><img src=\"https://colab.research.google.com/assets/colab-badge.svg\" alt=\"Open In Colab\"/></a>"
      ]
    },
    {
      "cell_type": "code",
      "source": [
        "a = 'Daejeon'\n",
        "b = 2024\n",
        "print(a, b)"
      ],
      "metadata": {
        "colab": {
          "base_uri": "https://localhost:8080/"
        },
        "id": "v9DBNubZi4CX",
        "outputId": "33022299-b124-44d5-f18d-b7d9f5c7d42b"
      },
      "execution_count": null,
      "outputs": [
        {
          "output_type": "stream",
          "name": "stdout",
          "text": [
            "Daejeon 2024\n"
          ]
        }
      ]
    },
    {
      "cell_type": "code",
      "execution_count": null,
      "metadata": {
        "colab": {
          "base_uri": "https://localhost:8080/"
        },
        "id": "lDeAeE7qiytL",
        "outputId": "32c92de7-33bf-4481-ea76-3657e644c568"
      },
      "outputs": [
        {
          "output_type": "stream",
          "name": "stdout",
          "text": [
            "3\n",
            "Daejeon\n"
          ]
        }
      ],
      "source": [
        "a = 3\n",
        "A = 'Daejeon'\n",
        "print(a)\n",
        "print(A)"
      ]
    },
    {
      "cell_type": "code",
      "source": [
        "bus1 = 10\n",
        "bus2 = 20\n",
        "bus3 = 30\n",
        "bus = [10, 20, 30]\n",
        "\n",
        "print(bus)"
      ],
      "metadata": {
        "colab": {
          "base_uri": "https://localhost:8080/"
        },
        "id": "0f9z0_sblOTV",
        "outputId": "b8ce9ee3-489c-4134-e4e3-2d94383fcd38"
      },
      "execution_count": null,
      "outputs": [
        {
          "output_type": "stream",
          "name": "stdout",
          "text": [
            "[10, 20, 30]\n"
          ]
        }
      ]
    },
    {
      "cell_type": "code",
      "source": [
        "city = ['Seoul', 'Busan', 'Ulsan']\n",
        "print(city)\n",
        "print(len(city))"
      ],
      "metadata": {
        "colab": {
          "base_uri": "https://localhost:8080/"
        },
        "id": "diMSC1nilTFK",
        "outputId": "d08b1baa-d25e-4229-d5b7-3b135b64cd55"
      },
      "execution_count": null,
      "outputs": [
        {
          "output_type": "stream",
          "name": "stdout",
          "text": [
            "['Seoul', 'Busan', 'Ulsan']\n",
            "3\n"
          ]
        }
      ]
    },
    {
      "cell_type": "code",
      "source": [
        "food = ['pizza','pasta','salad']\n",
        "print(food[0])"
      ],
      "metadata": {
        "colab": {
          "base_uri": "https://localhost:8080/"
        },
        "id": "teBNPikanath",
        "outputId": "3c8bab09-afe1-4688-dad4-e09bbe86455f"
      },
      "execution_count": null,
      "outputs": [
        {
          "output_type": "stream",
          "name": "stdout",
          "text": [
            "pizza\n"
          ]
        }
      ]
    },
    {
      "cell_type": "code",
      "source": [
        "food = ['pizza','pasta','salad']\n",
        "print(food[3]) # 어떤 값이 출력되나요?\n",
        "print(food[-1])"
      ],
      "metadata": {
        "colab": {
          "base_uri": "https://localhost:8080/",
          "height": 185
        },
        "id": "P-azJryQnlc_",
        "outputId": "1063f09e-293f-4efc-9018-735683711851"
      },
      "execution_count": null,
      "outputs": [
        {
          "output_type": "error",
          "ename": "IndexError",
          "evalue": "list index out of range",
          "traceback": [
            "\u001b[0;31m---------------------------------------------------------------------------\u001b[0m",
            "\u001b[0;31mIndexError\u001b[0m                                Traceback (most recent call last)",
            "\u001b[0;32m<ipython-input-14-3d1ab61bbc0e>\u001b[0m in \u001b[0;36m<cell line: 2>\u001b[0;34m()\u001b[0m\n\u001b[1;32m      1\u001b[0m \u001b[0mfood\u001b[0m \u001b[0;34m=\u001b[0m \u001b[0;34m[\u001b[0m\u001b[0;34m'pizza'\u001b[0m\u001b[0;34m,\u001b[0m\u001b[0;34m'pasta'\u001b[0m\u001b[0;34m,\u001b[0m\u001b[0;34m'salad'\u001b[0m\u001b[0;34m]\u001b[0m\u001b[0;34m\u001b[0m\u001b[0;34m\u001b[0m\u001b[0m\n\u001b[0;32m----> 2\u001b[0;31m \u001b[0mprint\u001b[0m\u001b[0;34m(\u001b[0m\u001b[0mfood\u001b[0m\u001b[0;34m[\u001b[0m\u001b[0;36m3\u001b[0m\u001b[0;34m]\u001b[0m\u001b[0;34m)\u001b[0m \u001b[0;31m# 어떤 값이 출력되나요?\u001b[0m\u001b[0;34m\u001b[0m\u001b[0;34m\u001b[0m\u001b[0m\n\u001b[0m\u001b[1;32m      3\u001b[0m \u001b[0mprint\u001b[0m\u001b[0;34m(\u001b[0m\u001b[0mfood\u001b[0m\u001b[0;34m[\u001b[0m\u001b[0;34m-\u001b[0m\u001b[0;36m1\u001b[0m\u001b[0;34m]\u001b[0m\u001b[0;34m)\u001b[0m\u001b[0;34m\u001b[0m\u001b[0;34m\u001b[0m\u001b[0m\n",
            "\u001b[0;31mIndexError\u001b[0m: list index out of range"
          ]
        }
      ]
    },
    {
      "cell_type": "code",
      "source": [
        "food = ['pizza','pasta','salad','curry','steak']\n",
        "print(food[:4])"
      ],
      "metadata": {
        "colab": {
          "base_uri": "https://localhost:8080/"
        },
        "id": "o_91kaUeoXzX",
        "outputId": "240e0223-002f-4256-8d5d-0b42d24555b0"
      },
      "execution_count": null,
      "outputs": [
        {
          "output_type": "stream",
          "name": "stdout",
          "text": [
            "['pizza', 'pasta', 'salad', 'curry']\n"
          ]
        }
      ]
    },
    {
      "cell_type": "code",
      "source": [
        "food = ['pizza','pasta','salad']\n",
        "food[0] = 'taco'\n",
        "print(food)"
      ],
      "metadata": {
        "colab": {
          "base_uri": "https://localhost:8080/"
        },
        "id": "nLKbJ8UJyZr6",
        "outputId": "cf983f16-2154-4cd1-826e-685505b55716"
      },
      "execution_count": null,
      "outputs": [
        {
          "output_type": "stream",
          "name": "stdout",
          "text": [
            "['taco', 'pasta', 'salad']\n"
          ]
        }
      ]
    },
    {
      "cell_type": "code",
      "source": [
        "food = ['pizza','pasta','salad']\n",
        "food[0:2] = ['taco','steak']\n",
        "print(food)"
      ],
      "metadata": {
        "colab": {
          "base_uri": "https://localhost:8080/"
        },
        "id": "QwSGaqJozJ6z",
        "outputId": "02717e2d-346b-4f93-d84c-a85d9ce44fc2"
      },
      "execution_count": null,
      "outputs": [
        {
          "output_type": "stream",
          "name": "stdout",
          "text": [
            "['taco', 'steak', 'salad']\n"
          ]
        }
      ]
    },
    {
      "cell_type": "code",
      "source": [
        "city = ['Seoul', 'Busan', 'Ulsan']\n",
        "city[1:2] =  ['Yangon', 'Chicago']\n",
        "print(city)\n"
      ],
      "metadata": {
        "colab": {
          "base_uri": "https://localhost:8080/"
        },
        "id": "bLPxVEl6zSk_",
        "outputId": "7f961c25-085b-4c37-e615-5cf24dffb8bf"
      },
      "execution_count": null,
      "outputs": [
        {
          "output_type": "stream",
          "name": "stdout",
          "text": [
            "['Seoul', 'Yangon', 'Chicago', 'Ulsan']\n"
          ]
        }
      ]
    },
    {
      "cell_type": "code",
      "source": [
        "city = ['Seoul', 'Busan', 'Ulsan', 'Daegu', 'Jeju', 'Incheon']\n",
        "city[1:3] = ['Yangon', 'Chicago']\n",
        "print(city)"
      ],
      "metadata": {
        "colab": {
          "base_uri": "https://localhost:8080/"
        },
        "id": "tkj5GcqFzV9N",
        "outputId": "3ef7724b-3b9b-4380-8541-cad4ddc846f4"
      },
      "execution_count": null,
      "outputs": [
        {
          "output_type": "stream",
          "name": "stdout",
          "text": [
            "['Seoul', 'Yangon', 'Chicago', 'Daegu', 'Jeju', 'Incheon']\n"
          ]
        }
      ]
    },
    {
      "cell_type": "code",
      "source": [
        "food = ['pizza','pasta','salad','buger','curry']\n",
        "food[1:3] = ['taco','steak']\n",
        "print(food)"
      ],
      "metadata": {
        "colab": {
          "base_uri": "https://localhost:8080/"
        },
        "id": "Cc8IVa_czgCn",
        "outputId": "33f59d7f-7213-43e7-839c-8902bb8c050e"
      },
      "execution_count": null,
      "outputs": [
        {
          "output_type": "stream",
          "name": "stdout",
          "text": [
            "['pizza', 'taco', 'steak', 'buger', 'curry']\n"
          ]
        }
      ]
    },
    {
      "cell_type": "code",
      "source": [
        "city = ['Seoul', 'Busan', 'Ulsan', 'Daegu', 'Jeju', 'Incheon']\n",
        "city[1:3] = ['Yangon', 'Chicago']\n",
        "print(city)"
      ],
      "metadata": {
        "colab": {
          "base_uri": "https://localhost:8080/"
        },
        "id": "MKdnxsgbHRbq",
        "outputId": "1b0615a9-035e-4a74-f28d-f43171438356"
      },
      "execution_count": null,
      "outputs": [
        {
          "output_type": "stream",
          "name": "stdout",
          "text": [
            "['Seoul', 'Yangon', 'Chicago', 'Daegu', 'Jeju', 'Incheon']\n"
          ]
        }
      ]
    },
    {
      "cell_type": "code",
      "source": [
        "food = ['salad','buger','curry']\n",
        "food.insert(0,'sushi')\n",
        "print(food)"
      ],
      "metadata": {
        "colab": {
          "base_uri": "https://localhost:8080/"
        },
        "id": "EMbDSeowIbBM",
        "outputId": "63dbbf8f-1f1d-4bd6-a293-ecdc102bbbe5"
      },
      "execution_count": null,
      "outputs": [
        {
          "output_type": "stream",
          "name": "stdout",
          "text": [
            "['sushi', 'salad', 'buger', 'curry']\n"
          ]
        }
      ]
    },
    {
      "cell_type": "markdown",
      "source": [],
      "metadata": {
        "id": "s9xO3wvXzmGf"
      }
    },
    {
      "cell_type": "code",
      "source": [
        "food = ['pizza','pasta','salad']\n",
        "food.append('burger')\n",
        "print(food)"
      ],
      "metadata": {
        "colab": {
          "base_uri": "https://localhost:8080/"
        },
        "id": "5z7YkFzgJrZe",
        "outputId": "7d867c96-2d5a-4587-b9b9-be811329c66e"
      },
      "execution_count": null,
      "outputs": [
        {
          "output_type": "stream",
          "name": "stdout",
          "text": [
            "['pizza', 'pasta', 'salad', 'burger']\n"
          ]
        }
      ]
    },
    {
      "cell_type": "code",
      "source": [
        "city = ['Seoul', 'Busan', 'Ulsan']\n",
        "abroad = ['Yangon', 'Chicago']\n",
        "city.extend(abroad)\n",
        "print(city)"
      ],
      "metadata": {
        "colab": {
          "base_uri": "https://localhost:8080/"
        },
        "id": "_B-eHj4UJ2-K",
        "outputId": "6ce5f3a0-2524-49db-dc3e-3da6b9c7793d"
      },
      "execution_count": null,
      "outputs": [
        {
          "output_type": "stream",
          "name": "stdout",
          "text": [
            "['Seoul', 'Busan', 'Ulsan', 'Yangon', 'Chicago']\n"
          ]
        }
      ]
    },
    {
      "cell_type": "code",
      "source": [
        "food = ['pizza','pasta','salad']\n",
        "food.remove('pasta') #0번째 자리에 'sushi'를 추가\n",
        "print(food)\n"
      ],
      "metadata": {
        "colab": {
          "base_uri": "https://localhost:8080/"
        },
        "id": "hWWnsKuzKLgm",
        "outputId": "dc6d0f7a-37fa-4583-f61b-6877a971f9ab"
      },
      "execution_count": null,
      "outputs": [
        {
          "output_type": "stream",
          "name": "stdout",
          "text": [
            "['pizza', 'salad']\n"
          ]
        }
      ]
    },
    {
      "cell_type": "code",
      "source": [
        "num = [21, 45, 31, 40, 1]\n",
        "num.sort()\n",
        "print(num)"
      ],
      "metadata": {
        "id": "l9v42bi0MbrQ",
        "outputId": "6a6387d6-eeca-4587-a635-4f6f5f22c2a0",
        "colab": {
          "base_uri": "https://localhost:8080/"
        }
      },
      "execution_count": null,
      "outputs": [
        {
          "output_type": "stream",
          "name": "stdout",
          "text": [
            "[1, 21, 31, 40, 45]\n"
          ]
        }
      ]
    }
  ]
}