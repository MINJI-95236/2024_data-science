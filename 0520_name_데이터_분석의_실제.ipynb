{
  "nbformat": 4,
  "nbformat_minor": 0,
  "metadata": {
    "colab": {
      "provenance": []
    },
    "kernelspec": {
      "name": "python3",
      "display_name": "Python 3"
    },
    "language_info": {
      "name": "python"
    }
  },
  "cells": [
    {
      "cell_type": "markdown",
      "source": [
        "# <인구수를 고려한 서울시 공유자전거 대여소 설치 지역 선정을 위한 데이터분석>"
      ],
      "metadata": {
        "id": "EaeIhfDRXj9C"
      }
    },
    {
      "cell_type": "markdown",
      "source": [
        "## * 맷플롯립 시각화를 위한 글꼴 설치"
      ],
      "metadata": {
        "id": "mFrnRUUrYDbW"
      }
    },
    {
      "cell_type": "markdown",
      "source": [
        "* 맷플롯립 시각화를 위한 글꼴 설치\n",
        "* 실행후, [런타임]-[세션 다시 시작] 후 다음 코드부터 실행"
      ],
      "metadata": {
        "id": "rYcUoV9-YH2D"
      }
    },
    {
      "cell_type": "code",
      "source": [
        "#맷플롯립 시각화를 위한 글꼴 설치\n",
        "#실행후, [런타임]-[세션 다시 시작] 후 다음 코드부터 실행\n",
        "\n",
        "!sudo apt-get install -y fonts-nanum\n",
        "!sudo fc-cache -fv\n",
        "!rm ~/.cache/matplotlib -rf"
      ],
      "metadata": {
        "id": "qdSfdJ5aYCh2"
      },
      "execution_count": null,
      "outputs": []
    },
    {
      "cell_type": "markdown",
      "source": [
        "## *라이브러리 불러오기 및 글꼴 적용하기(음수부호 오류포함)"
      ],
      "metadata": {
        "id": "qY35ZB72YVj8"
      }
    },
    {
      "cell_type": "code",
      "execution_count": null,
      "metadata": {
        "id": "kXROrj3pVzr7"
      },
      "outputs": [],
      "source": [
        "# 필요한 라이브러리 불러오기\n",
        "import pandas as pd\n",
        "import numpy as np\n",
        "import matplotlib.pyplot as plt\n",
        "import seaborn as sb\n",
        "from sklearn.linear_model import LinearRegression"
      ]
    },
    {
      "cell_type": "code",
      "source": [
        "# 나눔고딕 적용하기\n",
        "plt.rcParams['font.family'] = 'NanumGothic'\n",
        "\n",
        "# 음수부호 오류 처리하기\n",
        "plt.rcParams['axes.unicode_minus'] = False"
      ],
      "metadata": {
        "id": "1vJJsjy0YPoI"
      },
      "execution_count": null,
      "outputs": []
    },
    {
      "cell_type": "markdown",
      "source": [
        "## 1. 자치구별 공유자전거 관련 데이터 전처리 및 데이터 파악"
      ],
      "metadata": {
        "id": "zElZIHijYcUA"
      }
    },
    {
      "cell_type": "markdown",
      "source": [
        "### 1-1. 데이터 전처리"
      ],
      "metadata": {
        "id": "9OPKyqjfZiC5"
      }
    },
    {
      "cell_type": "code",
      "source": [
        "#데이터 프레임의 변수를 bike로 지정\n",
        "bike = pd.read_csv('bike_seoul.csv')\n",
        "\n",
        "#bike 데이터프레임의 가장 상위 데이터 5개만 출력\n",
        "bike.head()"
      ],
      "metadata": {
        "id": "4D48Sq19YpTp"
      },
      "execution_count": null,
      "outputs": []
    },
    {
      "cell_type": "code",
      "source": [
        "bike.isnull().sum()"
      ],
      "metadata": {
        "id": "ibFGexArY3eh"
      },
      "execution_count": null,
      "outputs": []
    },
    {
      "cell_type": "code",
      "source": [
        "# 총 따릉이 수 및 총 대여소 수 컬럼 생성 후 추가\n",
        "# 총 따릉이 수 = LCD형 따릉이 + QR형 따릉이\n",
        "# 총 대여소 수 = LCD_대여소 + QR_대여소\n",
        "\n",
        "bike['총 따릉이 수']=bike['LCD형 따릉이']+bike['QR형 따릉이']\n",
        "bike['총 대여소 수']=bike['LCD_대여소']+bike['QR_대여소']"
      ],
      "metadata": {
        "id": "uRVCv766ZAZV"
      },
      "execution_count": null,
      "outputs": []
    },
    {
      "cell_type": "code",
      "source": [
        "bike.head()"
      ],
      "metadata": {
        "id": "L2bcLow0Y6wI"
      },
      "execution_count": null,
      "outputs": []
    },
    {
      "cell_type": "markdown",
      "source": [
        "### 1-2. 데이터 파악"
      ],
      "metadata": {
        "id": "R_pHD6mRZjgZ"
      }
    },
    {
      "cell_type": "code",
      "source": [
        "# '총 따릉이 수'가 가장 많은 순서대로 상위 데이터 5개만 출력\n",
        "\n",
        "bike.sort_values('총 따릉이 수',ascending=False).head()"
      ],
      "metadata": {
        "id": "I4GBYxjbZo9D"
      },
      "execution_count": null,
      "outputs": []
    },
    {
      "cell_type": "code",
      "source": [
        "# '총 대여소 수'가 가장 많은 순서대로 상위 데이터 5개만 출력\n",
        "# sort_values()를 활용한다.\n",
        "# 내림차순으로 정렬할 때에는 ascending=False를 추가한다.\n",
        "\n",
        "bike.sort_values('총 대여소 수',ascending= False).head()"
      ],
      "metadata": {
        "id": "-vThnD5VZz23"
      },
      "execution_count": null,
      "outputs": []
    },
    {
      "cell_type": "markdown",
      "source": [
        "## 2. 자치구별 인구수 관련 데이터 전처리 및 데이터 파악"
      ],
      "metadata": {
        "id": "zkmdJtlFZ5KC"
      }
    },
    {
      "cell_type": "markdown",
      "source": [
        "### 2-1. 데이터 전처리"
      ],
      "metadata": {
        "id": "lPiFyHdLZ8QO"
      }
    },
    {
      "cell_type": "code",
      "source": [
        "#데이터 프레임의 변수를 population로 지정\n",
        "population = pd.read_csv('population_seoul.csv')\n",
        "\n",
        "#population 데이터프레임의 가장 상위 데이터 5개만 출력\n",
        "population.head()"
      ],
      "metadata": {
        "id": "FqqeHdVbZ9iK"
      },
      "execution_count": null,
      "outputs": []
    },
    {
      "cell_type": "code",
      "source": [
        "population.isnull().sum()"
      ],
      "metadata": {
        "id": "UthgqH3WaHXd"
      },
      "execution_count": null,
      "outputs": []
    },
    {
      "cell_type": "code",
      "source": [
        "# 컬럼별 이름 수정하기\n",
        "# 원본을 수정할 때에는 inplace=True를 사용한다.\n",
        "\n",
        "population.rename(columns={'구분':'자치구',\n",
        "                     '계':'총 인구수',\n",
        "                     '계_한국인':'한국인',\n",
        "                     '계_외국인':'외국인',\n",
        "                     '65세이상고령자':'고령자'},inplace=True)"
      ],
      "metadata": {
        "id": "QW-2qY_DaIpx"
      },
      "execution_count": null,
      "outputs": []
    },
    {
      "cell_type": "code",
      "source": [
        "population.head()"
      ],
      "metadata": {
        "id": "_9iJw9K6aVGL"
      },
      "execution_count": null,
      "outputs": []
    },
    {
      "cell_type": "markdown",
      "source": [
        "### 2-2. 데이터 파악"
      ],
      "metadata": {
        "id": "Q8FQNOGdavVw"
      }
    },
    {
      "cell_type": "code",
      "source": [
        "# '총 인구수'가 가장 많은 순서대로 상위 데이터 5개만 출력\n",
        "\n",
        "population.sort_values('총 인구수',ascending=False).head()"
      ],
      "metadata": {
        "id": "9RVH5OqqaYZ3"
      },
      "execution_count": null,
      "outputs": []
    },
    {
      "cell_type": "markdown",
      "source": [
        "## 3. 공유자전거 데이터와 인구수 데이터 합치기"
      ],
      "metadata": {
        "id": "MF_SYMIxaxHb"
      }
    },
    {
      "cell_type": "code",
      "source": [
        "df_result = pd.merge(bike,population,on='자치구').set_index('자치구')"
      ],
      "metadata": {
        "id": "eTMS9swsbEJ7"
      },
      "execution_count": null,
      "outputs": []
    },
    {
      "cell_type": "code",
      "source": [
        "#데이터가 잘 합쳐졌는지 확인\n",
        "df_result.head()"
      ],
      "metadata": {
        "id": "shmi2IrcbalO"
      },
      "execution_count": null,
      "outputs": []
    },
    {
      "cell_type": "markdown",
      "source": [
        "## 4. 데이터 분석 및 시각화"
      ],
      "metadata": {
        "id": "F6DtGqMAbezy"
      }
    },
    {
      "cell_type": "code",
      "source": [
        "# 서울시 자치구별 따릉이 대여소 수 시각화 (가로 막대 그래프 사용)\n",
        "\n",
        "plt.figure(figsize=(10,10))\n",
        "\n",
        "df_result_sorted = df_result.sort_values('총 대여소 수')\n",
        "\n",
        "plt.barh(df_result_sorted.index, df_result_sorted['총 대여소 수'],color='r')\n",
        "\n",
        "plt.title('서울시 자치구별 따릉이 대여소 수')\n",
        "plt.xlabel('총 대여소 수')\n",
        "plt.ylabel('자치구별')\n",
        "plt.grid(True)\n",
        "\n",
        "plt.show()"
      ],
      "metadata": {
        "id": "7yjongWvbgrD"
      },
      "execution_count": null,
      "outputs": []
    },
    {
      "cell_type": "code",
      "source": [
        "# 서울시 자치구별 인구수 시각화 (가로 막대 그래프 사용)\n",
        "\n",
        "plt.figure(figsize=(10,10))\n",
        "\n",
        "df_result_sorted = df_result.sort_values('총 인구수')\n",
        "\n",
        "plt.barh(df_result_sorted.index, df_result_sorted['총 인구수'],color='r')\n",
        "\n",
        "plt.title('서울시 자치구별 총 인구수')\n",
        "plt.xlabel('총 인구수')\n",
        "plt.ylabel('자치구별')\n",
        "plt.grid(True)\n",
        "\n",
        "plt.show()"
      ],
      "metadata": {
        "id": "5AZPLKtibnQW"
      },
      "execution_count": null,
      "outputs": []
    },
    {
      "cell_type": "code",
      "source": [
        "#'총 인구수' 변화에 대한 '총 대여소 수' 상관관계 분석\n",
        "df_result[['총 인구수','총 대여소 수']].corr()"
      ],
      "metadata": {
        "id": "7o_olDELb55l"
      },
      "execution_count": null,
      "outputs": []
    },
    {
      "cell_type": "code",
      "source": [
        "#회귀분석\n",
        "\n",
        "plt.figure(figsize=(10,10))\n",
        "\n",
        "x = np.array(df_result['총 인구수']).reshape(-1, 1)\n",
        "y = np.array(df_result['총 대여소 수']).reshape(-1, 1)\n",
        "\n",
        "model = LinearRegression().fit(x,y)\n",
        "\n",
        "plt.scatter(df_result['총 인구수'],df_result['총 대여소 수'],color='orange')\n",
        "\n",
        "pred=model.predict(x)\n",
        "plt.plot(x,pred,color='r')\n",
        "\n",
        "plt.title('자치구별 총 인구수에 따른 대여소 수 회귀분석')\n",
        "plt.xlabel('자치구별 총 인구수')\n",
        "plt.ylabel('자치구별 총 대여소 수')\n",
        "\n",
        "plt.grid(True)\n",
        "\n",
        "plt.show()"
      ],
      "metadata": {
        "id": "TXh2R76XcKDL"
      },
      "execution_count": null,
      "outputs": []
    },
    {
      "cell_type": "code",
      "source": [
        "#잔차 구하기\n",
        "\n",
        "x = np.array(df_result['총 인구수']).reshape(-1, 1)\n",
        "y = np.array(df_result['총 대여소 수']).reshape(-1, 1)\n",
        "\n",
        "model = LinearRegression().fit(x, y)\n",
        "\n",
        "y_pred = model.predict(x) #y_perd : 예측값\n",
        "residuals = y - y_pred\n",
        "\n",
        "# 잔차를 데이터프레임에 추가\n",
        "df_result['잔차'] = residuals\n",
        "\n",
        "df_result['잔차']"
      ],
      "metadata": {
        "id": "RDfyxhXdcamm"
      },
      "execution_count": null,
      "outputs": []
    },
    {
      "cell_type": "code",
      "source": [
        "#잔차 정렬하여 출력하기\n",
        "df_result.sort_values('잔차')"
      ],
      "metadata": {
        "id": "8b_MWfjdcmJ6"
      },
      "execution_count": null,
      "outputs": []
    },
    {
      "cell_type": "markdown",
      "source": [
        "## * 모델 성능 평가하기"
      ],
      "metadata": {
        "id": "27rehecycvm6"
      }
    },
    {
      "cell_type": "code",
      "source": [
        "x = np.array(df_result['총 인구수']).reshape(-1,1)\n",
        "y = np.array(df_result['총 대여소 수']).reshape(-1,1)\n",
        "\n",
        "model = LinearRegression().fit(x, y)\n",
        "\n",
        "pred = model.predict(x)\n",
        "\n",
        "residuals = y - pred\n",
        "\n",
        "plt.scatter(pred, residuals)\n",
        "\n",
        "plt.title('잔차 시각화를 통한 모델 성능평가')\n",
        "plt.xlabel('예측값')\n",
        "plt.ylabel('잔차')\n",
        "\n",
        "x_min = pred.min() - 10\n",
        "x_max = pred.max() + 10\n",
        "\n",
        "plt.hlines(y=0, xmin=x_min, xmax=x_max, color='red')\n",
        "\n",
        "plt.show()"
      ],
      "metadata": {
        "id": "MjQCPG-IcpMo"
      },
      "execution_count": null,
      "outputs": []
    },
    {
      "cell_type": "code",
      "source": [
        "from sklearn.metrics import mean_squared_error\n",
        "from sklearn.metrics import r2_score\n",
        "\n",
        "x = np.array(df_result['총 인구수']).reshape(-1,1)\n",
        "y = np.array(df_result['총 대여소 수']).reshape(-1,1)\n",
        "\n",
        "model =LinearRegression().fit(x,y)\n",
        "print('평균제곱오차:',mean_squared_error(y,model.predict(x)))\n",
        "print('결정계수:',r2_score(y,model.predict(x)))"
      ],
      "metadata": {
        "id": "9eo5xA2Qcu8D"
      },
      "execution_count": null,
      "outputs": []
    }
  ]
}