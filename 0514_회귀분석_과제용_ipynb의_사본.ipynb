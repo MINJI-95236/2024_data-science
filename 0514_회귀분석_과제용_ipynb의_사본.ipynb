{
  "nbformat": 4,
  "nbformat_minor": 0,
  "metadata": {
    "colab": {
      "provenance": [],
      "authorship_tag": "ABX9TyPfOr8wB2lELagIvo8kuCND",
      "include_colab_link": true
    },
    "kernelspec": {
      "name": "python3",
      "display_name": "Python 3"
    },
    "language_info": {
      "name": "python"
    }
  },
  "cells": [
    {
      "cell_type": "markdown",
      "metadata": {
        "id": "view-in-github",
        "colab_type": "text"
      },
      "source": [
        "<a href=\"https://colab.research.google.com/github/MINJI-95236/2024_data-science/blob/main/0514_%ED%9A%8C%EA%B7%80%EB%B6%84%EC%84%9D_%EA%B3%BC%EC%A0%9C%EC%9A%A9_ipynb%EC%9D%98_%EC%82%AC%EB%B3%B8.ipynb\" target=\"_parent\"><img src=\"https://colab.research.google.com/assets/colab-badge.svg\" alt=\"Open In Colab\"/></a>"
      ]
    },
    {
      "cell_type": "markdown",
      "source": [
        "#강수량에 따른 평균기온의 변화에 대한 회귀분석"
      ],
      "metadata": {
        "id": "-TmNmtaUQUX7"
      }
    },
    {
      "cell_type": "markdown",
      "source": [
        "## ** 맷플롯립 시각화를 위한 글꼴 설치**\n",
        "\n",
        "*  맷플롯립 시각화를 위한 글꼴 설치\n",
        "* 실행후, [런타임]-[세션 다시 시작] 후 다음 코드부터 실행"
      ],
      "metadata": {
        "id": "9Fp0IIibQgpx"
      }
    },
    {
      "cell_type": "code",
      "source": [
        "#맷플롯립 시각화를 위한 글꼴 설치\n",
        "#실행후, [런타임]-[세션 다시 시작] 후 다음 코드부터 실행\n",
        "\n",
        "!sudo apt-get install -y fonts-nanum\n",
        "!sudo fc-cache -fv\n",
        "!rm ~/.cache/matplotlib -rf"
      ],
      "metadata": {
        "id": "yMLt0YecOLWV"
      },
      "execution_count": null,
      "outputs": []
    },
    {
      "cell_type": "markdown",
      "source": [
        "##(주의) 깃허브에서 다운로드 받은 'summer_daejeon.csv'파일을 반드시 코랩으로 불러온다음 코드를 실행해야 합니다."
      ],
      "metadata": {
        "id": "5y_36rlmXYHj"
      }
    },
    {
      "cell_type": "markdown",
      "source": [
        "## 판다스와 맷플롯립 라이브러리 불러오기(아래 코드를 그대로 실행하세요)"
      ],
      "metadata": {
        "id": "J8R7KQpuQjSj"
      }
    },
    {
      "cell_type": "code",
      "source": [
        "import pandas as pd\n",
        "import numpy as np\n",
        "import matplotlib.pyplot as plt\n",
        "\n",
        "from sklearn.linear_model import LinearRegression"
      ],
      "metadata": {
        "id": "dp4jtyB8OSdt"
      },
      "execution_count": null,
      "outputs": []
    },
    {
      "cell_type": "markdown",
      "source": [
        "## 데이터 불러오기 및 데이터 전처리(아래 코드를 그대로 실행하세요)"
      ],
      "metadata": {
        "id": "ml1FLnBbQmtk"
      }
    },
    {
      "cell_type": "code",
      "source": [
        "df = pd.read_csv('summer_daejeon.csv')\n",
        "df.head() #가장 상위 5개 데이터 출력하기"
      ],
      "metadata": {
        "id": "RX07JYXLOT7z"
      },
      "execution_count": null,
      "outputs": []
    },
    {
      "cell_type": "code",
      "source": [
        "#컬럼별 결측치 갯수 확인하기\n",
        "df.isnull().sum()"
      ],
      "metadata": {
        "id": "BxsVQ42ROhkc"
      },
      "execution_count": null,
      "outputs": []
    },
    {
      "cell_type": "code",
      "source": [
        "#결측치를 모두 0으로 채우기(원본데이터 수정)\n",
        "df.fillna(0,inplace=True)"
      ],
      "metadata": {
        "id": "V3B7dsq4O_ly"
      },
      "execution_count": null,
      "outputs": []
    },
    {
      "cell_type": "code",
      "source": [
        "#컬럼별 결측치 다시 확인\n",
        "df.isnull().sum()"
      ],
      "metadata": {
        "id": "E0Bd9hIpTDbx"
      },
      "execution_count": null,
      "outputs": []
    },
    {
      "cell_type": "markdown",
      "source": [
        "## 회귀분석에서 기울기와 절편 파악하기(아래 코드를 그대로 실행하세요.)"
      ],
      "metadata": {
        "id": "MoKdPZIATbaq"
      }
    },
    {
      "cell_type": "code",
      "source": [
        "x = np.array(df['강수량(mm)']).reshape(-1,1)\n",
        "y = np.array(df['평균기온(℃)']).reshape(-1,1)\n",
        "\n",
        "model = LinearRegression().fit(x,y)\n",
        "\n",
        "print(\"기울기:\", model.coef_)\n",
        "print(\"절편:\",model.intercept_)"
      ],
      "metadata": {
        "id": "7hTSxsfHd9DE"
      },
      "execution_count": null,
      "outputs": []
    },
    {
      "cell_type": "markdown",
      "source": [
        "## 회귀분석을 적용하여 그래프 그리기(scatter() 안에 분석하려는 컬럼을 각각 작성 후, 코드를 실행하세요.)"
      ],
      "metadata": {
        "id": "TP-dahpLT0r1"
      }
    },
    {
      "cell_type": "code",
      "source": [
        "plt.rcParams['font.family'] = 'NanumGothic'\n",
        "\n",
        "x = np.array(df['강수량(mm)']).reshape(-1,1)\n",
        "y = np.array(df['평균기온(℃)']).reshape(-1,1)\n",
        "\n",
        "model = LinearRegression().fit(x,y)\n",
        "####아래 코드를 완성한 후 실행하세요####\n",
        "plt.scatter(             )\n",
        "########################################\n",
        "pred=model.predict(x)\n",
        "\n",
        "plt.plot(x, pred,color='r')\n",
        "\n",
        "plt.title('회귀분석')\n",
        "plt.xlabel('강수량(mm)')\n",
        "plt.ylabel('평균기온(℃)')\n",
        "plt.grid(True)\n",
        "\n",
        "plt.show()"
      ],
      "metadata": {
        "id": "R8KkCs9qEntH"
      },
      "execution_count": null,
      "outputs": []
    },
    {
      "cell_type": "markdown",
      "source": [
        "## 회귀분석으로 두 변수 간의 관계 예측하기"
      ],
      "metadata": {
        "id": "ZbHlERxTT719"
      }
    },
    {
      "cell_type": "code",
      "source": [
        "x = np.array(df['강수량(mm)']).reshape(-1,1)\n",
        "y = np.array(df['평균기온(℃)']).reshape(-1,1)\n",
        "\n",
        "model = LinearRegression().fit(x,y)\n",
        "\n",
        "rainfall = float(input(\"강수량(mm)을 입력하세요: \"))\n",
        "\n",
        "print(\"예측한 평균기온(℃):\",model.predict([[rainfall]]))"
      ],
      "metadata": {
        "id": "I8SS93rMJAtK"
      },
      "execution_count": null,
      "outputs": []
    }
  ]
}