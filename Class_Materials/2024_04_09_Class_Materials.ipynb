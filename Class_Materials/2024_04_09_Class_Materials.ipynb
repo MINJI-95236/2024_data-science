{
  "nbformat": 4,
  "nbformat_minor": 0,
  "metadata": {
    "colab": {
      "provenance": [],
      "authorship_tag": "ABX9TyOQlpMwUoif3xVM0OS7YGy/",
      "include_colab_link": true
    },
    "kernelspec": {
      "name": "python3",
      "display_name": "Python 3"
    },
    "language_info": {
      "name": "python"
    }
  },
  "cells": [
    {
      "cell_type": "markdown",
      "metadata": {
        "id": "view-in-github",
        "colab_type": "text"
      },
      "source": [
        "<a href=\"https://colab.research.google.com/github/MINJI-95236/2024_data-science/blob/main/2024_04_09_Class_Materials.ipynb\" target=\"_parent\"><img src=\"https://colab.research.google.com/assets/colab-badge.svg\" alt=\"Open In Colab\"/></a>"
      ]
    },
    {
      "cell_type": "code",
      "source": [
        "food = ['pizza','pasta','salad','curry','steak']\n",
        "\n",
        "print(food[0:2])"
      ],
      "metadata": {
        "id": "paxVIprkitr6",
        "outputId": "4ffe80e1-7b1d-4770-8ac1-a4d785429ffe",
        "colab": {
          "base_uri": "https://localhost:8080/"
        }
      },
      "execution_count": null,
      "outputs": [
        {
          "output_type": "stream",
          "name": "stdout",
          "text": [
            "['pizza', 'pasta']\n"
          ]
        }
      ]
    },
    {
      "cell_type": "code",
      "source": [
        "food = ['pizza','pasta','salad']\n",
        "food.append('taco')\n",
        "\n",
        "print(food)"
      ],
      "metadata": {
        "colab": {
          "base_uri": "https://localhost:8080/"
        },
        "id": "xTm9hKEPx3vT",
        "outputId": "ea04ed2d-d7bd-442e-9074-ca391b4733f0"
      },
      "execution_count": null,
      "outputs": [
        {
          "output_type": "stream",
          "name": "stdout",
          "text": [
            "['pizza', 'pasta', 'salad', 'taco']\n"
          ]
        }
      ]
    },
    {
      "cell_type": "code",
      "source": [
        "food = ['pizza','pasta','salad']\n",
        "food.pop(1)\n",
        "\n",
        "print(food)"
      ],
      "metadata": {
        "colab": {
          "base_uri": "https://localhost:8080/"
        },
        "id": "qpYvr8y4yapX",
        "outputId": "e7a65238-8af0-4dd7-e621-307760aa4d19"
      },
      "execution_count": null,
      "outputs": [
        {
          "output_type": "stream",
          "name": "stdout",
          "text": [
            "['pizza', 'salad']\n"
          ]
        }
      ]
    },
    {
      "cell_type": "code",
      "source": [
        "num = [50,100,2,561,10]\n",
        "num.sort(reverse=True)\n",
        "\n",
        "print(num)"
      ],
      "metadata": {
        "colab": {
          "base_uri": "https://localhost:8080/"
        },
        "id": "KbpmtQW-zDN1",
        "outputId": "e799dfa0-e067-4d3e-bacf-e431a13eb0e7"
      },
      "execution_count": null,
      "outputs": [
        {
          "output_type": "stream",
          "name": "stdout",
          "text": [
            "[561, 100, 50, 10, 2]\n"
          ]
        }
      ]
    },
    {
      "cell_type": "code",
      "source": [
        "food1 = ['pizza','pasta','salad']\n",
        "\n",
        "\n",
        "food2 = food1.copy()\n",
        "food1.append('steak')\n",
        "\n",
        "print(food1)\n",
        "print(food2)"
      ],
      "metadata": {
        "colab": {
          "base_uri": "https://localhost:8080/"
        },
        "id": "cCfNZUhjzvve",
        "outputId": "d01e33b2-ea45-4264-dbeb-034d62311c31"
      },
      "execution_count": null,
      "outputs": [
        {
          "output_type": "stream",
          "name": "stdout",
          "text": [
            "['pizza', 'pasta', 'salad', 'steak']\n",
            "['pizza', 'pasta', 'salad', 'steak']\n"
          ]
        }
      ]
    },
    {
      "cell_type": "code",
      "source": [
        "dic = {'학번':202403815,'성명':'김민지','학과':'컴퓨터공학과'}\n",
        "dic['학과']='너두나두학과'\n",
        "\n",
        "dic"
      ],
      "metadata": {
        "colab": {
          "base_uri": "https://localhost:8080/"
        },
        "id": "oO3UWKuE06De",
        "outputId": "2fdb25ad-3f04-41e6-c73a-355e9033db8c"
      },
      "execution_count": null,
      "outputs": [
        {
          "output_type": "execute_result",
          "data": {
            "text/plain": [
              "{'학번': 202403815, '성명': '김민지', '학과': '너두나두학과'}"
            ]
          },
          "metadata": {},
          "execution_count": 19
        }
      ]
    },
    {
      "cell_type": "code",
      "source": [
        "dic = {'학번': 202403785, '성명':'(본인이름)', '학과':'(가고싶은 학과)'}\n",
        "del dic['학과']\n",
        "\n",
        "\n",
        "dic"
      ],
      "metadata": {
        "colab": {
          "base_uri": "https://localhost:8080/"
        },
        "id": "IQEDWVDB5VDv",
        "outputId": "c26b7e30-cd61-402d-da8b-255ebca523d8"
      },
      "execution_count": null,
      "outputs": [
        {
          "output_type": "execute_result",
          "data": {
            "text/plain": [
              "{'학번': 202403785, '성명': '(본인이름)'}"
            ]
          },
          "metadata": {},
          "execution_count": 24
        }
      ]
    },
    {
      "cell_type": "code",
      "source": [
        "import pandas as pd\n",
        "import numpy as np\n",
        "\n",
        "pd"
      ],
      "metadata": {
        "id": "nQ4SOnON6poG"
      },
      "execution_count": null,
      "outputs": []
    }
  ]
}
