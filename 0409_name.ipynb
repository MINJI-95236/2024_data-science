{
  "nbformat": 4,
  "nbformat_minor": 0,
  "metadata": {
    "colab": {
      "provenance": [],
      "toc_visible": true,
      "include_colab_link": true
    },
    "kernelspec": {
      "name": "python3",
      "display_name": "Python 3"
    },
    "language_info": {
      "name": "python"
    }
  },
  "cells": [
    {
      "cell_type": "markdown",
      "metadata": {
        "id": "view-in-github",
        "colab_type": "text"
      },
      "source": [
        "<a href=\"https://colab.research.google.com/github/MINJI-95236/2024_data-science/blob/main/0409_name.ipynb\" target=\"_parent\"><img src=\"https://colab.research.google.com/assets/colab-badge.svg\" alt=\"Open In Colab\"/></a>"
      ]
    },
    {
      "cell_type": "markdown",
      "source": [
        "# 1.리스트"
      ],
      "metadata": {
        "id": "liuS9vRSqeiw"
      }
    },
    {
      "cell_type": "markdown",
      "source": [
        "## 1-1. 인덱싱과 슬라이싱\n"
      ],
      "metadata": {
        "id": "PL8bwv1suXPd"
      }
    },
    {
      "cell_type": "code",
      "source": [
        "#food 리스트에 자신이 좋아하는 음식을 영어로 추가해보세요!\n",
        "\n",
        "food = ['pizza',      ,      ] #작성할 부분\n",
        "print(food[0])\n",
        "print(food[-1]) # 어떤 값이 출력되나요?"
      ],
      "metadata": {
        "id": "2jhTiZwtoh2y"
      },
      "execution_count": null,
      "outputs": []
    },
    {
      "cell_type": "code",
      "source": [
        "#아래 리스트를 슬라이싱 해보세요!\n",
        "\n",
        "food = ['pizza','pasta','salad','curry','steak']\n",
        "print(food[  ]) #인덱스 1부터 3까지의 항목을 출력\n",
        "print(food[  ]) #처음부터 인덱스 3까지의 항목을 출력\n",
        "print(food[  ]) #인덱스 1부터 끝까지의 항목을 출력"
      ],
      "metadata": {
        "id": "qmuRmh51prmG"
      },
      "execution_count": null,
      "outputs": []
    },
    {
      "cell_type": "markdown",
      "source": [
        "## 1-2. 데이터 값 변경"
      ],
      "metadata": {
        "id": "1YJWSe20qAx-"
      }
    },
    {
      "cell_type": "code",
      "source": [
        "#아래 코드를 그대로 실행해 보세요.\n",
        "\n",
        "food = ['pizza','pasta','salad']\n",
        "food[0] = 'taco'\n",
        "print(food)"
      ],
      "metadata": {
        "id": "Rg9mSdTYqtU4"
      },
      "execution_count": null,
      "outputs": []
    },
    {
      "cell_type": "code",
      "source": [
        "#food 리스트의 0번째, 1번째 인덱스에 'taco'와 'steak'를 추가하는 코드를 작성해보세요.\n",
        "\n",
        "food = ['pizza','pasta','salad','buger','curry']\n",
        "food[  ] =  [            ]  #작성할 부분\n",
        "\n",
        "print(food)"
      ],
      "metadata": {
        "id": "RxRSiQA7rtEO"
      },
      "execution_count": null,
      "outputs": []
    },
    {
      "cell_type": "markdown",
      "source": [
        "## 1-3.데이터 값 삽입, 추가, 삭제, 정렬"
      ],
      "metadata": {
        "id": "ny-AzYs88nZ3"
      }
    },
    {
      "cell_type": "code",
      "source": [
        "food = ['pizza','pasta','salad']\n",
        "\n",
        "#리스트의 끝에 'burger' 원소를 추가해보세요.\n",
        "food.\n",
        "print(food)"
      ],
      "metadata": {
        "id": "Svw_JcZolzmF"
      },
      "execution_count": null,
      "outputs": []
    },
    {
      "cell_type": "code",
      "source": [
        "#아래 코드를 그대로 실행해 보세요.\n",
        "\n",
        "food = ['pizza','pasta','salad']\n",
        "food.insert(0,'sushi') #0번째 자리에 'sushi'를 추가\n",
        "print(food)"
      ],
      "metadata": {
        "id": "ruuCH5p884bI"
      },
      "execution_count": null,
      "outputs": []
    },
    {
      "cell_type": "code",
      "source": [
        "food = ['pizza','pasta','salad']\n",
        "food.                      #'salad' 데이터를 삭제해주세요.\n",
        "food.                      #리스트 끝에 'burger'를 추가해주세요.\n",
        "\n",
        "print(food)"
      ],
      "metadata": {
        "id": "NGZwQ2p39jes"
      },
      "execution_count": null,
      "outputs": []
    },
    {
      "cell_type": "code",
      "source": [
        "text = [\"banana\", \"apple\", \"orange\", \"grape\", \"kiwi\"]\n",
        "text.                    #text에 저장된 문자를 오름차순으로 정렬해주세요.\n",
        "print(text)"
      ],
      "metadata": {
        "id": "ujxJjL3K-4E9"
      },
      "execution_count": null,
      "outputs": []
    },
    {
      "cell_type": "markdown",
      "source": [
        "# 2.딕셔너리"
      ],
      "metadata": {
        "id": "lFjAbAqCNH6g"
      }
    },
    {
      "cell_type": "markdown",
      "source": [
        "## 2-1.데이터 값 검색 및 변경"
      ],
      "metadata": {
        "id": "aB0TglTqO7m-"
      }
    },
    {
      "cell_type": "code",
      "source": [
        "#성명과 학과에 자신의 이름과 가고 싶은 학과를 작성해주세요.\n",
        "\n",
        "dic = {'학번': 202403785, '성명':'        ', '학과':'            '}\n",
        "dic['성명']  #dic에서 '성명'이라는 키(key)에 해당하는 값을 가져온다.\n"
      ],
      "metadata": {
        "id": "3XbRLO6bNLiY"
      },
      "execution_count": null,
      "outputs": []
    },
    {
      "cell_type": "code",
      "source": [
        "#성명과 학과에 자신의 이름과 가고 싶은 학과를 작성해주세요.\n",
        "\n",
        "dic = {'학번': 202403785, '성명':'        ', '학과':'            '}\n",
        "dic[  ] = '너두나두학과' #'학과'를 '너두나두학과'로 변경해보세요!\n",
        "\n",
        "print(dic) #'학과'라는 키의 값이  변경되었나요?"
      ],
      "metadata": {
        "id": "Cxz0m28lUKOX",
        "colab": {
          "base_uri": "https://localhost:8080/"
        },
        "outputId": "a9fb74cd-6750-4868-cfa9-ff5a4f2fdef3"
      },
      "execution_count": null,
      "outputs": [
        {
          "output_type": "execute_result",
          "data": {
            "text/plain": [
              "{'학번': '너두나두학과', '성명': '        ', '학과': '            '}"
            ]
          },
          "metadata": {},
          "execution_count": 6
        }
      ]
    },
    {
      "cell_type": "markdown",
      "source": [
        "## 2-2. 데이터 값 추가 및 삽입"
      ],
      "metadata": {
        "id": "vdmZv47-PtFX"
      }
    },
    {
      "cell_type": "code",
      "source": [
        "#아래 코드를 그대로 실행해 보세요.\n",
        "\n",
        "dic = {'학번': 202403785, '성명':'홍길동', '학과':'컴퓨터공학과'}\n",
        "dic['나이'] = 20\n",
        "print(dic) #'나이'라는 키와 20이라는 값이 추가 되었나요?"
      ],
      "metadata": {
        "id": "U_FURiacP2aZ"
      },
      "execution_count": null,
      "outputs": []
    },
    {
      "cell_type": "code",
      "source": [
        "dic = {'학번': 202403785, '성명':'홍길동', '학과':'컴퓨터공학과'}\n",
        "dic.                        #'학번'키에 대한 데이터 값을 모두 삭제해주세요.\n",
        "\n",
        "print(dic)"
      ],
      "metadata": {
        "id": "ZmCeQnSeR3Om"
      },
      "execution_count": null,
      "outputs": []
    },
    {
      "cell_type": "markdown",
      "source": [
        "## 2-4. 데이터 복사"
      ],
      "metadata": {
        "id": "AeHT1IY9Vusa"
      }
    },
    {
      "cell_type": "code",
      "source": [
        "dic = {'학번': 202403785, '성명':'홍길동', '학과':'컴퓨터공학과'}\n",
        "mydic =                     #mydic이라는 변수에 dic이라는 딕셔너리를 복사해주세요.\n",
        "print(mydic)"
      ],
      "metadata": {
        "id": "_W3KIntlVwkw"
      },
      "execution_count": null,
      "outputs": []
    },
    {
      "cell_type": "markdown",
      "source": [
        "#3.판다스 - 시리즈(Series)"
      ],
      "metadata": {
        "id": "_6JgX9m5N4RU"
      }
    },
    {
      "cell_type": "code",
      "source": [
        "#아래 코드를 그대로 실행해 보세요.\n",
        "\n",
        "import pandas as pd\n",
        "\n",
        "city_population = {'New York': 800, 'Los Angeles': 600, 'Chicago': 450} #city_population라는 딕셔너리 생성\n",
        "df = pd.Series(city_population) #딕셔너리 시리즈 객체가 생성되어 df라는 변수에 할당\n",
        "\n",
        "df"
      ],
      "metadata": {
        "id": "g_yMQyXpN_DR"
      },
      "execution_count": null,
      "outputs": []
    },
    {
      "cell_type": "code",
      "source": [
        "import pandas as pd\n",
        "\n",
        "city =                # city라는 리스트에 New York,Los Angeles,Chicago를 넣어주세요.\n",
        "df = pd.Series(city) #리스트 시리즈 객체가 생성되어 df라는 변수에 할당\n",
        "\n",
        "df #결과가 어떻게 나오나요?"
      ],
      "metadata": {
        "id": "UXUC-gnrOirJ"
      },
      "execution_count": null,
      "outputs": []
    },
    {
      "cell_type": "markdown",
      "source": [
        "#4.판다스 - 데이터프레임(Dataframe)"
      ],
      "metadata": {
        "id": "RYgO1GNEO1Xr"
      }
    },
    {
      "cell_type": "markdown",
      "source": [
        "##4-1.데이터프레임 만들기"
      ],
      "metadata": {
        "id": "_w73VBb-RUSW"
      }
    },
    {
      "cell_type": "markdown",
      "source": [
        "![image.png](data:image/png;base64,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)"
      ],
      "metadata": {
        "id": "PfLVnplhQCoG"
      }
    },
    {
      "cell_type": "code",
      "source": [
        "#학생별 전공 및 학년에 대한 데이터 프레임을 만들어 보세요.\n",
        "\n",
        "import pandas as pd\n",
        "\n",
        "df = pd.DataFrame({'name':                         , #데이터프레임이 출력되도록 완성해보세요.\n",
        "                   'major':['경제학','컴퓨터공학','신소재공학','심리학'],\n",
        "                   'grade':[3,2,4,1]})\n",
        "\n",
        "df"
      ],
      "metadata": {
        "colab": {
          "base_uri": "https://localhost:8080/",
          "height": 175
        },
        "id": "e0QFovkVPMYH",
        "outputId": "bef2a5a4-3a9d-48db-ce5d-eee974523139"
      },
      "execution_count": null,
      "outputs": [
        {
          "output_type": "execute_result",
          "data": {
            "text/plain": [
              "  name  major  grade\n",
              "0   나리    경제학      3\n",
              "1   형철  컴퓨터공학      2\n",
              "2   병수  신소재공학      4\n",
              "3   지현    심리학      1"
            ],
            "text/html": [
              "\n",
              "  <div id=\"df-eb904219-5036-4c05-8ae5-cfb700ab0020\" class=\"colab-df-container\">\n",
              "    <div>\n",
              "<style scoped>\n",
              "    .dataframe tbody tr th:only-of-type {\n",
              "        vertical-align: middle;\n",
              "    }\n",
              "\n",
              "    .dataframe tbody tr th {\n",
              "        vertical-align: top;\n",
              "    }\n",
              "\n",
              "    .dataframe thead th {\n",
              "        text-align: right;\n",
              "    }\n",
              "</style>\n",
              "<table border=\"1\" class=\"dataframe\">\n",
              "  <thead>\n",
              "    <tr style=\"text-align: right;\">\n",
              "      <th></th>\n",
              "      <th>name</th>\n",
              "      <th>major</th>\n",
              "      <th>grade</th>\n",
              "    </tr>\n",
              "  </thead>\n",
              "  <tbody>\n",
              "    <tr>\n",
              "      <th>0</th>\n",
              "      <td>나리</td>\n",
              "      <td>경제학</td>\n",
              "      <td>3</td>\n",
              "    </tr>\n",
              "    <tr>\n",
              "      <th>1</th>\n",
              "      <td>형철</td>\n",
              "      <td>컴퓨터공학</td>\n",
              "      <td>2</td>\n",
              "    </tr>\n",
              "    <tr>\n",
              "      <th>2</th>\n",
              "      <td>병수</td>\n",
              "      <td>신소재공학</td>\n",
              "      <td>4</td>\n",
              "    </tr>\n",
              "    <tr>\n",
              "      <th>3</th>\n",
              "      <td>지현</td>\n",
              "      <td>심리학</td>\n",
              "      <td>1</td>\n",
              "    </tr>\n",
              "  </tbody>\n",
              "</table>\n",
              "</div>\n",
              "    <div class=\"colab-df-buttons\">\n",
              "\n",
              "  <div class=\"colab-df-container\">\n",
              "    <button class=\"colab-df-convert\" onclick=\"convertToInteractive('df-eb904219-5036-4c05-8ae5-cfb700ab0020')\"\n",
              "            title=\"Convert this dataframe to an interactive table.\"\n",
              "            style=\"display:none;\">\n",
              "\n",
              "  <svg xmlns=\"http://www.w3.org/2000/svg\" height=\"24px\" viewBox=\"0 -960 960 960\">\n",
              "    <path d=\"M120-120v-720h720v720H120Zm60-500h600v-160H180v160Zm220 220h160v-160H400v160Zm0 220h160v-160H400v160ZM180-400h160v-160H180v160Zm440 0h160v-160H620v160ZM180-180h160v-160H180v160Zm440 0h160v-160H620v160Z\"/>\n",
              "  </svg>\n",
              "    </button>\n",
              "\n",
              "  <style>\n",
              "    .colab-df-container {\n",
              "      display:flex;\n",
              "      gap: 12px;\n",
              "    }\n",
              "\n",
              "    .colab-df-convert {\n",
              "      background-color: #E8F0FE;\n",
              "      border: none;\n",
              "      border-radius: 50%;\n",
              "      cursor: pointer;\n",
              "      display: none;\n",
              "      fill: #1967D2;\n",
              "      height: 32px;\n",
              "      padding: 0 0 0 0;\n",
              "      width: 32px;\n",
              "    }\n",
              "\n",
              "    .colab-df-convert:hover {\n",
              "      background-color: #E2EBFA;\n",
              "      box-shadow: 0px 1px 2px rgba(60, 64, 67, 0.3), 0px 1px 3px 1px rgba(60, 64, 67, 0.15);\n",
              "      fill: #174EA6;\n",
              "    }\n",
              "\n",
              "    .colab-df-buttons div {\n",
              "      margin-bottom: 4px;\n",
              "    }\n",
              "\n",
              "    [theme=dark] .colab-df-convert {\n",
              "      background-color: #3B4455;\n",
              "      fill: #D2E3FC;\n",
              "    }\n",
              "\n",
              "    [theme=dark] .colab-df-convert:hover {\n",
              "      background-color: #434B5C;\n",
              "      box-shadow: 0px 1px 3px 1px rgba(0, 0, 0, 0.15);\n",
              "      filter: drop-shadow(0px 1px 2px rgba(0, 0, 0, 0.3));\n",
              "      fill: #FFFFFF;\n",
              "    }\n",
              "  </style>\n",
              "\n",
              "    <script>\n",
              "      const buttonEl =\n",
              "        document.querySelector('#df-eb904219-5036-4c05-8ae5-cfb700ab0020 button.colab-df-convert');\n",
              "      buttonEl.style.display =\n",
              "        google.colab.kernel.accessAllowed ? 'block' : 'none';\n",
              "\n",
              "      async function convertToInteractive(key) {\n",
              "        const element = document.querySelector('#df-eb904219-5036-4c05-8ae5-cfb700ab0020');\n",
              "        const dataTable =\n",
              "          await google.colab.kernel.invokeFunction('convertToInteractive',\n",
              "                                                    [key], {});\n",
              "        if (!dataTable) return;\n",
              "\n",
              "        const docLinkHtml = 'Like what you see? Visit the ' +\n",
              "          '<a target=\"_blank\" href=https://colab.research.google.com/notebooks/data_table.ipynb>data table notebook</a>'\n",
              "          + ' to learn more about interactive tables.';\n",
              "        element.innerHTML = '';\n",
              "        dataTable['output_type'] = 'display_data';\n",
              "        await google.colab.output.renderOutput(dataTable, element);\n",
              "        const docLink = document.createElement('div');\n",
              "        docLink.innerHTML = docLinkHtml;\n",
              "        element.appendChild(docLink);\n",
              "      }\n",
              "    </script>\n",
              "  </div>\n",
              "\n",
              "\n",
              "<div id=\"df-0add9e7f-799a-48a3-927a-657c7a282f90\">\n",
              "  <button class=\"colab-df-quickchart\" onclick=\"quickchart('df-0add9e7f-799a-48a3-927a-657c7a282f90')\"\n",
              "            title=\"Suggest charts\"\n",
              "            style=\"display:none;\">\n",
              "\n",
              "<svg xmlns=\"http://www.w3.org/2000/svg\" height=\"24px\"viewBox=\"0 0 24 24\"\n",
              "     width=\"24px\">\n",
              "    <g>\n",
              "        <path d=\"M19 3H5c-1.1 0-2 .9-2 2v14c0 1.1.9 2 2 2h14c1.1 0 2-.9 2-2V5c0-1.1-.9-2-2-2zM9 17H7v-7h2v7zm4 0h-2V7h2v10zm4 0h-2v-4h2v4z\"/>\n",
              "    </g>\n",
              "</svg>\n",
              "  </button>\n",
              "\n",
              "<style>\n",
              "  .colab-df-quickchart {\n",
              "      --bg-color: #E8F0FE;\n",
              "      --fill-color: #1967D2;\n",
              "      --hover-bg-color: #E2EBFA;\n",
              "      --hover-fill-color: #174EA6;\n",
              "      --disabled-fill-color: #AAA;\n",
              "      --disabled-bg-color: #DDD;\n",
              "  }\n",
              "\n",
              "  [theme=dark] .colab-df-quickchart {\n",
              "      --bg-color: #3B4455;\n",
              "      --fill-color: #D2E3FC;\n",
              "      --hover-bg-color: #434B5C;\n",
              "      --hover-fill-color: #FFFFFF;\n",
              "      --disabled-bg-color: #3B4455;\n",
              "      --disabled-fill-color: #666;\n",
              "  }\n",
              "\n",
              "  .colab-df-quickchart {\n",
              "    background-color: var(--bg-color);\n",
              "    border: none;\n",
              "    border-radius: 50%;\n",
              "    cursor: pointer;\n",
              "    display: none;\n",
              "    fill: var(--fill-color);\n",
              "    height: 32px;\n",
              "    padding: 0;\n",
              "    width: 32px;\n",
              "  }\n",
              "\n",
              "  .colab-df-quickchart:hover {\n",
              "    background-color: var(--hover-bg-color);\n",
              "    box-shadow: 0 1px 2px rgba(60, 64, 67, 0.3), 0 1px 3px 1px rgba(60, 64, 67, 0.15);\n",
              "    fill: var(--button-hover-fill-color);\n",
              "  }\n",
              "\n",
              "  .colab-df-quickchart-complete:disabled,\n",
              "  .colab-df-quickchart-complete:disabled:hover {\n",
              "    background-color: var(--disabled-bg-color);\n",
              "    fill: var(--disabled-fill-color);\n",
              "    box-shadow: none;\n",
              "  }\n",
              "\n",
              "  .colab-df-spinner {\n",
              "    border: 2px solid var(--fill-color);\n",
              "    border-color: transparent;\n",
              "    border-bottom-color: var(--fill-color);\n",
              "    animation:\n",
              "      spin 1s steps(1) infinite;\n",
              "  }\n",
              "\n",
              "  @keyframes spin {\n",
              "    0% {\n",
              "      border-color: transparent;\n",
              "      border-bottom-color: var(--fill-color);\n",
              "      border-left-color: var(--fill-color);\n",
              "    }\n",
              "    20% {\n",
              "      border-color: transparent;\n",
              "      border-left-color: var(--fill-color);\n",
              "      border-top-color: var(--fill-color);\n",
              "    }\n",
              "    30% {\n",
              "      border-color: transparent;\n",
              "      border-left-color: var(--fill-color);\n",
              "      border-top-color: var(--fill-color);\n",
              "      border-right-color: var(--fill-color);\n",
              "    }\n",
              "    40% {\n",
              "      border-color: transparent;\n",
              "      border-right-color: var(--fill-color);\n",
              "      border-top-color: var(--fill-color);\n",
              "    }\n",
              "    60% {\n",
              "      border-color: transparent;\n",
              "      border-right-color: var(--fill-color);\n",
              "    }\n",
              "    80% {\n",
              "      border-color: transparent;\n",
              "      border-right-color: var(--fill-color);\n",
              "      border-bottom-color: var(--fill-color);\n",
              "    }\n",
              "    90% {\n",
              "      border-color: transparent;\n",
              "      border-bottom-color: var(--fill-color);\n",
              "    }\n",
              "  }\n",
              "</style>\n",
              "\n",
              "  <script>\n",
              "    async function quickchart(key) {\n",
              "      const quickchartButtonEl =\n",
              "        document.querySelector('#' + key + ' button');\n",
              "      quickchartButtonEl.disabled = true;  // To prevent multiple clicks.\n",
              "      quickchartButtonEl.classList.add('colab-df-spinner');\n",
              "      try {\n",
              "        const charts = await google.colab.kernel.invokeFunction(\n",
              "            'suggestCharts', [key], {});\n",
              "      } catch (error) {\n",
              "        console.error('Error during call to suggestCharts:', error);\n",
              "      }\n",
              "      quickchartButtonEl.classList.remove('colab-df-spinner');\n",
              "      quickchartButtonEl.classList.add('colab-df-quickchart-complete');\n",
              "    }\n",
              "    (() => {\n",
              "      let quickchartButtonEl =\n",
              "        document.querySelector('#df-0add9e7f-799a-48a3-927a-657c7a282f90 button');\n",
              "      quickchartButtonEl.style.display =\n",
              "        google.colab.kernel.accessAllowed ? 'block' : 'none';\n",
              "    })();\n",
              "  </script>\n",
              "</div>\n",
              "\n",
              "  <div id=\"id_6e419d1b-1262-4a63-b6a6-5734d2ae120a\">\n",
              "    <style>\n",
              "      .colab-df-generate {\n",
              "        background-color: #E8F0FE;\n",
              "        border: none;\n",
              "        border-radius: 50%;\n",
              "        cursor: pointer;\n",
              "        display: none;\n",
              "        fill: #1967D2;\n",
              "        height: 32px;\n",
              "        padding: 0 0 0 0;\n",
              "        width: 32px;\n",
              "      }\n",
              "\n",
              "      .colab-df-generate:hover {\n",
              "        background-color: #E2EBFA;\n",
              "        box-shadow: 0px 1px 2px rgba(60, 64, 67, 0.3), 0px 1px 3px 1px rgba(60, 64, 67, 0.15);\n",
              "        fill: #174EA6;\n",
              "      }\n",
              "\n",
              "      [theme=dark] .colab-df-generate {\n",
              "        background-color: #3B4455;\n",
              "        fill: #D2E3FC;\n",
              "      }\n",
              "\n",
              "      [theme=dark] .colab-df-generate:hover {\n",
              "        background-color: #434B5C;\n",
              "        box-shadow: 0px 1px 3px 1px rgba(0, 0, 0, 0.15);\n",
              "        filter: drop-shadow(0px 1px 2px rgba(0, 0, 0, 0.3));\n",
              "        fill: #FFFFFF;\n",
              "      }\n",
              "    </style>\n",
              "    <button class=\"colab-df-generate\" onclick=\"generateWithVariable('df')\"\n",
              "            title=\"Generate code using this dataframe.\"\n",
              "            style=\"display:none;\">\n",
              "\n",
              "  <svg xmlns=\"http://www.w3.org/2000/svg\" height=\"24px\"viewBox=\"0 0 24 24\"\n",
              "       width=\"24px\">\n",
              "    <path d=\"M7,19H8.4L18.45,9,17,7.55,7,17.6ZM5,21V16.75L18.45,3.32a2,2,0,0,1,2.83,0l1.4,1.43a1.91,1.91,0,0,1,.58,1.4,1.91,1.91,0,0,1-.58,1.4L9.25,21ZM18.45,9,17,7.55Zm-12,3A5.31,5.31,0,0,0,4.9,8.1,5.31,5.31,0,0,0,1,6.5,5.31,5.31,0,0,0,4.9,4.9,5.31,5.31,0,0,0,6.5,1,5.31,5.31,0,0,0,8.1,4.9,5.31,5.31,0,0,0,12,6.5,5.46,5.46,0,0,0,6.5,12Z\"/>\n",
              "  </svg>\n",
              "    </button>\n",
              "    <script>\n",
              "      (() => {\n",
              "      const buttonEl =\n",
              "        document.querySelector('#id_6e419d1b-1262-4a63-b6a6-5734d2ae120a button.colab-df-generate');\n",
              "      buttonEl.style.display =\n",
              "        google.colab.kernel.accessAllowed ? 'block' : 'none';\n",
              "\n",
              "      buttonEl.onclick = () => {\n",
              "        google.colab.notebook.generateWithVariable('df');\n",
              "      }\n",
              "      })();\n",
              "    </script>\n",
              "  </div>\n",
              "\n",
              "    </div>\n",
              "  </div>\n"
            ],
            "application/vnd.google.colaboratory.intrinsic+json": {
              "type": "dataframe",
              "variable_name": "df",
              "summary": "{\n  \"name\": \"df\",\n  \"rows\": 4,\n  \"fields\": [\n    {\n      \"column\": \"name\",\n      \"properties\": {\n        \"dtype\": \"string\",\n        \"num_unique_values\": 4,\n        \"samples\": [\n          \"\\ud615\\ucca0\",\n          \"\\uc9c0\\ud604\",\n          \"\\ub098\\ub9ac\"\n        ],\n        \"semantic_type\": \"\",\n        \"description\": \"\"\n      }\n    },\n    {\n      \"column\": \"major\",\n      \"properties\": {\n        \"dtype\": \"string\",\n        \"num_unique_values\": 4,\n        \"samples\": [\n          \"\\ucef4\\ud4e8\\ud130\\uacf5\\ud559\",\n          \"\\uc2ec\\ub9ac\\ud559\",\n          \"\\uacbd\\uc81c\\ud559\"\n        ],\n        \"semantic_type\": \"\",\n        \"description\": \"\"\n      }\n    },\n    {\n      \"column\": \"grade\",\n      \"properties\": {\n        \"dtype\": \"number\",\n        \"std\": 1,\n        \"min\": 1,\n        \"max\": 4,\n        \"num_unique_values\": 4,\n        \"samples\": [\n          2,\n          1,\n          3\n        ],\n        \"semantic_type\": \"\",\n        \"description\": \"\"\n      }\n    }\n  ]\n}"
            }
          },
          "metadata": {},
          "execution_count": 17
        }
      ]
    },
    {
      "cell_type": "code",
      "source": [
        "a = sum(df['grade'])/4 #학년의 평균값\n",
        "b = df['grade'].mean()\n",
        "\n",
        "print(a)\n",
        "print(b)\n",
        "\n",
        "#변수 a,b의 출력값이 동일한가요?"
      ],
      "metadata": {
        "colab": {
          "base_uri": "https://localhost:8080/"
        },
        "id": "7QK1EVgJUbf_",
        "outputId": "12d1a675-8dd6-494b-b5ab-9d8c1df07627"
      },
      "execution_count": null,
      "outputs": [
        {
          "output_type": "stream",
          "name": "stdout",
          "text": [
            "2.5\n",
            "2.5\n"
          ]
        }
      ]
    },
    {
      "cell_type": "markdown",
      "source": [
        "\n",
        "*   아래 표를 데이터 프레임으로 출력하고, 가격와 판매량의 평균 각각 구하기\n",
        "\n"
      ],
      "metadata": {
        "id": "H-vdKm91R_WD"
      }
    },
    {
      "cell_type": "markdown",
      "source": [
        "![image.png](data:image/png;base64,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)"
      ],
      "metadata": {
        "id": "TkKwKIA9R7TE"
      }
    },
    {
      "cell_type": "markdown",
      "source": [
        "### 1.위 표를 데이터 프레임으로 출력하세요."
      ],
      "metadata": {
        "id": "uCQscXvdTe8N"
      }
    },
    {
      "cell_type": "code",
      "source": [
        "import pandas as pd\n",
        "\n"
      ],
      "metadata": {
        "id": "gw8tg2tUR8O9"
      },
      "execution_count": null,
      "outputs": []
    },
    {
      "cell_type": "markdown",
      "source": [
        "### 2.'average_price'라는 변수에 가격의 평균값을 할당하고 'average_sales_volume'라는 변수에 판매량의 평균값을 할당하여 각각 출력하세요."
      ],
      "metadata": {
        "id": "nxwQe2pRTmMV"
      }
    },
    {
      "cell_type": "code",
      "source": [
        "average_price  =\n",
        "average_sales_volume =\n",
        "\n",
        "print( )\n"
      ],
      "metadata": {
        "id": "9HwfySx1TlnM"
      },
      "execution_count": null,
      "outputs": []
    },
    {
      "cell_type": "markdown",
      "source": [],
      "metadata": {
        "id": "ZINssTT4WkG5"
      }
    }
  ]
}