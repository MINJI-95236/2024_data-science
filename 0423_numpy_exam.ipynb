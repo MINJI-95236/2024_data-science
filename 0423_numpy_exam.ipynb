{
  "nbformat": 4,
  "nbformat_minor": 0,
  "metadata": {
    "colab": {
      "provenance": [],
      "authorship_tag": "ABX9TyP13yxzaqFV7tlX8rIub8An",
      "include_colab_link": true
    },
    "kernelspec": {
      "name": "python3",
      "display_name": "Python 3"
    },
    "language_info": {
      "name": "python"
    }
  },
  "cells": [
    {
      "cell_type": "markdown",
      "metadata": {
        "id": "view-in-github",
        "colab_type": "text"
      },
      "source": [
        "<a href=\"https://colab.research.google.com/github/MINJI-95236/2024_data-science/blob/main/0423_numpy_exam.ipynb\" target=\"_parent\"><img src=\"https://colab.research.google.com/assets/colab-badge.svg\" alt=\"Open In Colab\"/></a>"
      ]
    },
    {
      "cell_type": "markdown",
      "source": [
        "# 1. 데이터를 분석하는 데 필요한 패키지인 numpy를 불러와주세요."
      ],
      "metadata": {
        "id": "MqXlpa2JH-To"
      }
    },
    {
      "cell_type": "code",
      "source": [
        "import numpy as np"
      ],
      "metadata": {
        "id": "Z8osOvSmICJk"
      },
      "execution_count": null,
      "outputs": []
    },
    {
      "cell_type": "markdown",
      "source": [
        "# 아래 출력 결과와 동일한 배열을 생성하고, 이를 'z' 변수에 할당하세요. 그리고 print()를 이용하여 출력하세요."
      ],
      "metadata": {
        "id": "DsEB7T-WG3e9"
      }
    },
    {
      "cell_type": "code",
      "source": [],
      "metadata": {
        "id": "RlYr4FbmUJYI",
        "colab": {
          "base_uri": "https://localhost:8080/"
        },
        "outputId": "1cb34fcc-ad6f-42b7-b598-8ca1e1f2d506"
      },
      "execution_count": null,
      "outputs": [
        {
          "output_type": "stream",
          "name": "stdout",
          "text": [
            "[[0. 0. 0.]\n",
            " [0. 0. 0.]\n",
            " [0. 0. 0.]\n",
            " [0. 0. 0.]\n",
            " [0. 0. 0.]\n",
            " [0. 0. 0.]\n",
            " [0. 0. 0.]]\n"
          ]
        }
      ]
    },
    {
      "cell_type": "markdown",
      "source": [
        "#아래 출력 결과와 동일한 배열을 생성하고, 이를 o(소문자 알파벳) 변수에 할당하세요. 그리고 print()를 이용하여 출력하세요."
      ],
      "metadata": {
        "id": "8bJsthzjOEYF"
      }
    },
    {
      "cell_type": "code",
      "source": [],
      "metadata": {
        "colab": {
          "base_uri": "https://localhost:8080/"
        },
        "id": "WrRcD9udOLuk",
        "outputId": "0d8f3ba4-fb0c-4a2b-8561-f9e59a70a456"
      },
      "execution_count": null,
      "outputs": [
        {
          "output_type": "stream",
          "name": "stdout",
          "text": [
            "[[1. 1. 1.]\n",
            " [1. 1. 1.]\n",
            " [1. 1. 1.]\n",
            " [1. 1. 1.]\n",
            " [1. 1. 1.]]\n"
          ]
        }
      ]
    },
    {
      "cell_type": "markdown",
      "source": [
        "# 아래 출력 결과와 동일한 배열을 생성하고, 이를 'f' 변수에 할당하세요. 그리고 print()를 이용하여 출력하세요."
      ],
      "metadata": {
        "id": "QXtZDFEeUJHv"
      }
    },
    {
      "cell_type": "code",
      "source": [],
      "metadata": {
        "id": "MR5d0x5uUVQh",
        "colab": {
          "base_uri": "https://localhost:8080/"
        },
        "outputId": "f1625a53-786e-4abd-eb04-a4aeb5541d62"
      },
      "execution_count": null,
      "outputs": [
        {
          "output_type": "stream",
          "name": "stdout",
          "text": [
            "[[8 8]\n",
            " [8 8]\n",
            " [8 8]\n",
            " [8 8]]\n"
          ]
        }
      ]
    },
    {
      "cell_type": "markdown",
      "source": [
        "# 4부터 11(포함)까지의 모든 연속 정수를 포함하는 1차원 배열을 생성하고, 이를 'arr_1' 변수에 할당하세요. 그리고 print()를 이용하여 출력하세요."
      ],
      "metadata": {
        "id": "zJbqQNw0IVsl"
      }
    },
    {
      "cell_type": "code",
      "execution_count": null,
      "metadata": {
        "id": "BJhn-KUQVYJh",
        "colab": {
          "base_uri": "https://localhost:8080/"
        },
        "outputId": "3ee259ef-4b45-46b8-9c7b-b3cd253d6eb7"
      },
      "outputs": [
        {
          "output_type": "stream",
          "name": "stdout",
          "text": [
            "[ 4  5  6  7  8  9 10 11]\n"
          ]
        }
      ],
      "source": []
    },
    {
      "cell_type": "markdown",
      "source": [
        "#위에서 생성한 1차원 배열 arr 을 4행 2열의 2차원 배열로 형태를 변경하여 반환하세요. 2차원 배열은 변수 arr_2 에 할당하세요. 그리고 print()를 이용하여 출력하세요."
      ],
      "metadata": {
        "id": "kl3VEwDwJrnV"
      }
    },
    {
      "cell_type": "code",
      "source": [],
      "metadata": {
        "colab": {
          "base_uri": "https://localhost:8080/"
        },
        "id": "ELND2Z2GJ156",
        "outputId": "cd18442b-fccd-46fd-c50b-2842cdb989c1"
      },
      "execution_count": null,
      "outputs": [
        {
          "output_type": "stream",
          "name": "stdout",
          "text": [
            "[[ 4  5]\n",
            " [ 6  7]\n",
            " [ 8  9]\n",
            " [10 11]]\n"
          ]
        }
      ]
    },
    {
      "cell_type": "markdown",
      "source": [
        "# 2부터 시작하여 10(포함)까지 2씩 증가하는 원소로 이루어지는 1차원 배열을 생성하고, 이를 변수 a에 할당하세요. 그리고 print()를 이용하여 출력하세요."
      ],
      "metadata": {
        "id": "IaTSvwO7KX6T"
      }
    },
    {
      "cell_type": "code",
      "source": [],
      "metadata": {
        "colab": {
          "base_uri": "https://localhost:8080/"
        },
        "id": "oLYUa0FBLBgf",
        "outputId": "b85a21ed-e1f8-4b56-e9e6-e4ebcf599c54"
      },
      "execution_count": null,
      "outputs": [
        {
          "output_type": "stream",
          "name": "stdout",
          "text": [
            "[ 2  4  6  8 10]\n"
          ]
        }
      ]
    },
    {
      "cell_type": "markdown",
      "source": [
        "# 생성한 배열  a에서 마지막 원소를 인덱스를 사용하여 출력하세요."
      ],
      "metadata": {
        "id": "fUDWofz_LGLV"
      }
    },
    {
      "cell_type": "code",
      "source": [],
      "metadata": {
        "colab": {
          "base_uri": "https://localhost:8080/"
        },
        "id": "jBdcWqR_LbBf",
        "outputId": "1a7a1e64-fd6d-4850-e73a-1d11a0b9dcfc"
      },
      "execution_count": null,
      "outputs": [
        {
          "output_type": "stream",
          "name": "stdout",
          "text": [
            "10\n"
          ]
        }
      ]
    },
    {
      "cell_type": "markdown",
      "source": [
        "# 아래 출력 결과는 1차원 배열 a를 슬라이싱한 결과입니다. 동일한 결과를 얻을 수 있도록 코드를 작성하세요."
      ],
      "metadata": {
        "id": "af0EGAJ-OcVs"
      }
    },
    {
      "cell_type": "code",
      "source": [],
      "metadata": {
        "colab": {
          "base_uri": "https://localhost:8080/"
        },
        "id": "Flh6b2rOObx6",
        "outputId": "b874c63b-760a-4bdd-bf80-d8e6c9b55a87"
      },
      "execution_count": null,
      "outputs": [
        {
          "output_type": "stream",
          "name": "stdout",
          "text": [
            "[ 8 10]\n"
          ]
        }
      ]
    },
    {
      "cell_type": "markdown",
      "source": [
        "# 6부터 시작하여 29(포함)까지의 모든 연속 정수를 포함하는 2차원 배열을 생성하고, 이를 변수 b에 할당하세요. 그리고 print()를 이용하여 출력하세요."
      ],
      "metadata": {
        "id": "-au3_e3qLrnr"
      }
    },
    {
      "cell_type": "markdown",
      "source": [
        "* 조건: arange( )와 reshape( )를 사용해야합니다."
      ],
      "metadata": {
        "id": "vTVrIg8nMijT"
      }
    },
    {
      "cell_type": "code",
      "source": [],
      "metadata": {
        "colab": {
          "base_uri": "https://localhost:8080/"
        },
        "id": "MeAMGiUULirw",
        "outputId": "cac4973a-16c0-4075-e0f4-6b023ccc95dc"
      },
      "execution_count": null,
      "outputs": [
        {
          "output_type": "stream",
          "name": "stdout",
          "text": [
            "[[ 6  7  8  9]\n",
            " [10 11 12 13]\n",
            " [14 15 16 17]\n",
            " [18 19 20 21]\n",
            " [22 23 24 25]\n",
            " [26 27 28 29]]\n"
          ]
        }
      ]
    },
    {
      "cell_type": "markdown",
      "source": [
        "# 아래 출력 결과는 생성된 2차원 배열 b를 슬라이싱한 결과입니다. 동일한 결과를 얻을 수 있도록 코드를 작성하세요."
      ],
      "metadata": {
        "id": "Q7wlZAzZMtDb"
      }
    },
    {
      "cell_type": "code",
      "source": [],
      "metadata": {
        "colab": {
          "base_uri": "https://localhost:8080/"
        },
        "id": "K91KxkFhMtoz",
        "outputId": "a11a8fdc-3395-4528-92c4-a13801fe5012"
      },
      "execution_count": null,
      "outputs": [
        {
          "output_type": "stream",
          "name": "stdout",
          "text": [
            "[[11 12]\n",
            " [15 16]]\n"
          ]
        }
      ]
    }
  ]
}