{
  "nbformat": 4,
  "nbformat_minor": 0,
  "metadata": {
    "colab": {
      "provenance": [],
      "include_colab_link": true
    },
    "kernelspec": {
      "name": "python3",
      "display_name": "Python 3"
    },
    "language_info": {
      "name": "python"
    }
  },
  "cells": [
    {
      "cell_type": "markdown",
      "metadata": {
        "id": "view-in-github",
        "colab_type": "text"
      },
      "source": [
        "<a href=\"https://colab.research.google.com/github/MINJI-95236/test/blob/main/0408_%ED%95%99%EB%B2%88_%EC%9D%B4%EB%A6%84.ipynb\" target=\"_parent\"><img src=\"https://colab.research.google.com/assets/colab-badge.svg\" alt=\"Open In Colab\"/></a>"
      ]
    },
    {
      "cell_type": "markdown",
      "source": [
        "# 2.리스트"
      ],
      "metadata": {
        "id": "liuS9vRSqeiw"
      }
    },
    {
      "cell_type": "markdown",
      "source": [
        "## 2-1. 인덱싱과 슬라이싱\n"
      ],
      "metadata": {
        "id": "PL8bwv1suXPd"
      }
    },
    {
      "cell_type": "code",
      "source": [
        "#food 리스트에 자신이 좋아하는 음식을 영어로 추가해보세요!\n",
        "\n",
        "food = ['pizza',      ,      ] #작성할 부분\n",
        "print(food[0])\n",
        "print(food[-1]) # 어떤 값이 출력되나요?"
      ],
      "metadata": {
        "id": "2jhTiZwtoh2y"
      },
      "execution_count": null,
      "outputs": []
    },
    {
      "cell_type": "code",
      "source": [
        "#아래 코드를 그대로 실행해 보세요.\n",
        "\n",
        "food = ['pizza','pasta','salad','curry','steak']\n",
        "print(food[0:4]) #인덱스 0부터 3까지의 항목을 출력\n",
        "print(food[:2]) #처음부터 인덱스 1까지의 항목을 출력\n",
        "print(food[3:]) #: 인덱스 3부터 끝까지의 항목"
      ],
      "metadata": {
        "id": "qmuRmh51prmG"
      },
      "execution_count": null,
      "outputs": []
    },
    {
      "cell_type": "markdown",
      "source": [
        "## 2-2. 데이터 값 변경"
      ],
      "metadata": {
        "id": "1YJWSe20qAx-"
      }
    },
    {
      "cell_type": "code",
      "source": [
        "#아래 코드를 그대로 실행해 보세요.\n",
        "\n",
        "food = ['pizza','pasta','salad']\n",
        "food[0] = 'taco'\n",
        "print(food)"
      ],
      "metadata": {
        "id": "Rg9mSdTYqtU4"
      },
      "execution_count": null,
      "outputs": []
    },
    {
      "cell_type": "code",
      "source": [
        "#food 리스트의 0번째, 1번째 인덱스에 'taco'와 'steak'를 추가하는 코드를 작성해보세요.\n",
        "\n",
        "food = ['pizza','pasta','salad','buger','curry']\n",
        "food[  ] =  [            ]  #작성할 부분\n",
        "print(food)\n"
      ],
      "metadata": {
        "id": "RxRSiQA7rtEO"
      },
      "execution_count": null,
      "outputs": []
    },
    {
      "cell_type": "markdown",
      "source": [
        "## 2-3.데이터 값 삽입, 추가, 삭제, 정렬"
      ],
      "metadata": {
        "id": "ny-AzYs88nZ3"
      }
    },
    {
      "cell_type": "code",
      "source": [
        "#아래 코드를 그대로 실행해 보세요.\n",
        "\n",
        "food = ['pizza','pasta','salad']\n",
        "food.insert(0,'sushi') #0번째 자리에 'sushi'를 추가\n",
        "print(food)"
      ],
      "metadata": {
        "id": "ruuCH5p884bI"
      },
      "execution_count": null,
      "outputs": []
    },
    {
      "cell_type": "code",
      "source": [
        "food = ['pizza','pasta','salad']\n",
        "food.                         #'salad' 데이터를 삭제해주세요.\n",
        "food.                         #리스트 끝에 'burger'를 추가해주세요.\n",
        "\n",
        "print(food)"
      ],
      "metadata": {
        "id": "NGZwQ2p39jes"
      },
      "execution_count": null,
      "outputs": []
    },
    {
      "cell_type": "code",
      "source": [
        "text = [\"banana\", \"apple\", \"orange\", \"grape\", \"kiwi\"]\n",
        "text.                         #text에 저장된 문자를 오름차순으로 정렬해주세요.\n",
        "print(text)"
      ],
      "metadata": {
        "id": "ujxJjL3K-4E9"
      },
      "execution_count": null,
      "outputs": []
    },
    {
      "cell_type": "markdown",
      "source": [
        "# 3.딕셔너리"
      ],
      "metadata": {
        "id": "lFjAbAqCNH6g"
      }
    },
    {
      "cell_type": "markdown",
      "source": [
        "## 3-1.데이터 값 검색 및 변경"
      ],
      "metadata": {
        "id": "aB0TglTqO7m-"
      }
    },
    {
      "cell_type": "code",
      "source": [
        "dic = {'학번': 202403785, '성명':'        ', '학과':'            '}         #성명과 학과에 자신의 이름과 가고 싶은 학과를 작성해주세요.\n",
        "dic['성명']  #dic에서 '성명'이라는 키(key)에 해당하는 값을 가져온다."
      ],
      "metadata": {
        "id": "3XbRLO6bNLiY"
      },
      "execution_count": null,
      "outputs": []
    },
    {
      "cell_type": "code",
      "source": [
        "dic = {'학번': 202403785, '성명':'        ', '학과':'            '} #성명과 학과에 자신의 이름과 가고 싶은 학과를 작성해주세요.\n",
        "dic['학과'] = '너두나두학과'\n",
        "\n",
        "print(dic) #학과가 변경되었나요?"
      ],
      "metadata": {
        "id": "Cxz0m28lUKOX"
      },
      "execution_count": null,
      "outputs": []
    },
    {
      "cell_type": "markdown",
      "source": [
        "## 3-2. 데이터 값 추가 및 삽입"
      ],
      "metadata": {
        "id": "vdmZv47-PtFX"
      }
    },
    {
      "cell_type": "code",
      "source": [
        "#아래 코드를 그대로 실행해 보세요.\n",
        "\n",
        "dic = {'학번': 202403785, '성명':'홍길동', '학과':'컴퓨터공학과'}\n",
        "dic['나이'] = 20\n",
        "print(dic) #나이가 추가 되었나요?"
      ],
      "metadata": {
        "id": "U_FURiacP2aZ"
      },
      "execution_count": null,
      "outputs": []
    },
    {
      "cell_type": "markdown",
      "source": [
        "## 3-43.데이터 값 삭제"
      ],
      "metadata": {
        "id": "3VPQP2bJRTF9"
      }
    },
    {
      "cell_type": "code",
      "source": [
        "dic = {'학번': 202403785, '성명':'홍길동', '학과':'컴퓨터공학과'}\n",
        "dic.                        #'학번'키에 대한 데이터 값을 모두 삭제해주세요.\n",
        "print(dic)"
      ],
      "metadata": {
        "id": "ZmCeQnSeR3Om"
      },
      "execution_count": null,
      "outputs": []
    },
    {
      "cell_type": "markdown",
      "source": [
        "## 3-4. 데이터 복사"
      ],
      "metadata": {
        "id": "AeHT1IY9Vusa"
      }
    },
    {
      "cell_type": "code",
      "source": [
        "dic = {'학번': 202403785, '성명':'홍길동', '학과':'컴퓨터공학과'}\n",
        "mydic =                     #mydic이라는 변수에 dic이라는 딕셔너리를 복사해주세요.\n",
        "print(mydic)"
      ],
      "metadata": {
        "id": "_W3KIntlVwkw"
      },
      "execution_count": null,
      "outputs": []
    }
  ]
}