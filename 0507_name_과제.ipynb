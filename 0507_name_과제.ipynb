{
  "nbformat": 4,
  "nbformat_minor": 0,
  "metadata": {
    "colab": {
      "provenance": [],
      "authorship_tag": "ABX9TyMmS9mq1SRJgWfPuwLycXcK",
      "include_colab_link": true
    },
    "kernelspec": {
      "name": "python3",
      "display_name": "Python 3"
    },
    "language_info": {
      "name": "python"
    }
  },
  "cells": [
    {
      "cell_type": "markdown",
      "metadata": {
        "id": "view-in-github",
        "colab_type": "text"
      },
      "source": [
        "<a href=\"https://colab.research.google.com/github/MINJI-95236/2024_data-science/blob/main/0507_name_%EA%B3%BC%EC%A0%9C.ipynb\" target=\"_parent\"><img src=\"https://colab.research.google.com/assets/colab-badge.svg\" alt=\"Open In Colab\"/></a>"
      ]
    },
    {
      "cell_type": "markdown",
      "source": [
        "# 1. 깃허브에서 202208_temp.csv 파일을 다운받아 코랩에 불러온 다음, 아래 코드부터 차례대로 실행하세요."
      ],
      "metadata": {
        "id": "H5Nb2R0Imoqy"
      }
    },
    {
      "cell_type": "code",
      "execution_count": null,
      "metadata": {
        "id": "r13SU5reAHsm"
      },
      "outputs": [],
      "source": [
        "import pandas as pd\n",
        "import numpy as np\n",
        "import matplotlib.pyplot as plt\n",
        "\n",
        "df=pd.read_csv('202208_temp.csv')\n",
        "\n",
        "df.head()       #가장 첫번째 행부터 5개 데이터 출력"
      ]
    },
    {
      "cell_type": "code",
      "source": [
        "df.isnull()     #결측치 확인, True = 결측치"
      ],
      "metadata": {
        "id": "qzD6Fm6pA7oL"
      },
      "execution_count": null,
      "outputs": []
    },
    {
      "cell_type": "code",
      "source": [
        "df.dropna(inplace=True)     #원본데이터에서 결측치 제거\n",
        "df.drop(columns=['지점'],inplace=True)    #'지점' 컬럼 제거\n",
        "df.tail()     #결측치 제거 및 컬럼 제거 확인을 위해 뒤에서 5개 행 출력"
      ],
      "metadata": {
        "id": "gjjBxjYYBCPC"
      },
      "execution_count": null,
      "outputs": []
    },
    {
      "cell_type": "code",
      "source": [
        "df['날짜'] = df['날짜'].str.replace('\\t','')          #날짜컬럼에서 \\t 문자제거\n",
        "df         #현재까지 전처리 작업한 데이터프레임 출력"
      ],
      "metadata": {
        "id": "6yu7Z-jkBkQd"
      },
      "execution_count": null,
      "outputs": []
    },
    {
      "cell_type": "markdown",
      "source": [
        "# 2. 아래 코드에서 평균값, 중앙값, 최댓값, 최솟값, 표준편차, 분산을 구하기 위해 각각의 코드를 작성하여 완성하세요."
      ],
      "metadata": {
        "id": "nmzvWVbenFHo"
      }
    },
    {
      "cell_type": "code",
      "source": [
        "mean_value=df['평균기온(℃)'].                #평균값\n",
        "median_value=df['평균기온(℃)'].              #중앙값\n",
        "\n",
        "temp_max=df['평균기온(℃)'].                  #최댓값\n",
        "temp_min=df['평균기온(℃)'].                  #최솟값\n",
        "\n",
        "std_value=df['평균기온(℃)'].                 #표준편차\n",
        "var_value=df['평균기온(℃)'].                 #분산\n",
        "\n",
        "\n",
        "######아래 코드부터는 건들지 않아도 됩니다######\n",
        "\n",
        "mode_value=df['평균기온(℃)'].mode()[0] #평균기온의 첫번째 최빈값만 출력\n",
        "quantile_value = df['평균기온(℃)'].quantile(0.25) #하위 25%에 위치한 값을 출력\n",
        "\n",
        "print('평균값:',mean_value)\n",
        "print('중앙값:',median_value)\n",
        "print('최빈값:',mode_value)\n",
        "print('최댓값:',temp_max)\n",
        "print('최솟값:',temp_min)\n",
        "print('표준편차:',std_value)\n",
        "print('분산:',var_value)"
      ],
      "metadata": {
        "id": "WZXrvpWFBvKD"
      },
      "execution_count": null,
      "outputs": []
    },
    {
      "cell_type": "markdown",
      "source": [
        "# 3. 2022년 8월의 대전 일별 기온 데이터를 막대 그래프로 표현해보겠습니다. 아래 코드를 그대로 실행하세요."
      ],
      "metadata": {
        "id": "YK3uIgfBpvO6"
      }
    },
    {
      "cell_type": "code",
      "source": [
        "a =df['날짜']  #날짜 컬럼을 a 변수에 저장\n",
        "b = df['평균기온(℃)'] #최고기온 컬럼을 b 변수에 저장\n",
        "\n",
        "#선그래프 그리기\n",
        "plt.figure(figsize=(10,6)) #그래프의 크기를 가로 10인치, 세로 6인치로 설정\n",
        "plt.xticks(np.arange(0,32,7)) #x축의 눈금 레이블을 7일 단위로만 표시\n",
        "\n",
        "plt.bar(a,b,color = 'green') # a를 x축 값으로,b를 y축으로 하여 초록색의 막대 그래프를 그리기\n",
        "\n",
        "\n",
        "plt.xlabel('Date') #x축 제목(레이블)을 Date로 설정\n",
        "plt.ylabel('Temperature') #y축 제목(레이블)을 Temperature로 설정\n",
        "plt.title('Average Temperature for August 2023') #그래프의 제목 설정\n",
        "\n",
        "\n",
        "plt.show() #위의 모든 설정을 적용한 그래프를 화면에 표시"
      ],
      "metadata": {
        "id": "lNWpg1PTD15M"
      },
      "execution_count": null,
      "outputs": []
    }
  ]
}