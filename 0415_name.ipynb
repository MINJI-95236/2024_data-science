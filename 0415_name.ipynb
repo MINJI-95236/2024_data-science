{
  "nbformat": 4,
  "nbformat_minor": 0,
  "metadata": {
    "colab": {
      "provenance": [],
      "authorship_tag": "ABX9TyOknIBNXF/WeNdq1OUxAJqI",
      "include_colab_link": true
    },
    "kernelspec": {
      "name": "python3",
      "display_name": "Python 3"
    },
    "language_info": {
      "name": "python"
    }
  },
  "cells": [
    {
      "cell_type": "markdown",
      "metadata": {
        "id": "view-in-github",
        "colab_type": "text"
      },
      "source": [
        "<a href=\"https://colab.research.google.com/github/MINJI-95236/2024_data-science/blob/main/0415_name.ipynb\" target=\"_parent\"><img src=\"https://colab.research.google.com/assets/colab-badge.svg\" alt=\"Open In Colab\"/></a>"
      ]
    },
    {
      "cell_type": "markdown",
      "source": [
        "#데이터 프레임 생성하기"
      ],
      "metadata": {
        "id": "qXBWjtMihFVM"
      }
    },
    {
      "cell_type": "markdown",
      "source": [
        "## 슬램덩크 주인공들의 정보를 데이터 프레임으로 생성하고, 데이터를 조회해보자"
      ],
      "metadata": {
        "id": "3HiyC82_g3KK"
      }
    },
    {
      "cell_type": "code",
      "execution_count": null,
      "metadata": {
        "id": "Eivw-pclgpUh"
      },
      "outputs": [],
      "source": [
        "#판다스 모듈을 불러와주세요.\n",
        "\n",
        "import\n"
      ]
    },
    {
      "cell_type": "code",
      "source": [
        "#아래 코드를 그대로 실행하세요.\n",
        "\n",
        "df = pd.DataFrame({\n",
        "    '이름' : ['채치수', '정대만', '송태섭', '서태웅', '강백호', '변덕규', '황태산', '윤대협'],\n",
        "    '학교' : ['북산고', '북산고', '북산고', '북산고', '북산고', '능남고', '능남고', '능남고'],\n",
        "    '키' : [197, 184, 168, 187, 188, 202, 188, 190],\n",
        "    '국어' : [90, 40, 80, 40, 15, 80, 55, 100],\n",
        "    '영어' : [85, 35, 75, 60, 20, 100, 65, 85],\n",
        "    '수학' : [100, 50, 70, 70, 10, 95, 45, 90],\n",
        "    '과학' : [95, 55, 80, 75, 35, 85, 40, 95],\n",
        "    '사회' : [85, 25, 75, 80, 10, 80, 35, 95],\n",
        "    'SW특기' : ['Python', 'Java', 'Javascript', '', '', 'C', 'PYTHON', 'C#']\n",
        "})\n",
        "\n",
        "df #df 데이터 프레임 출력"
      ],
      "metadata": {
        "id": "USvEQgDzg2A9"
      },
      "execution_count": null,
      "outputs": []
    },
    {
      "cell_type": "code",
      "source": [
        "#'이름' 컬럼만 출력할 수 있도록 아래 코드를 작성하세요.\n",
        "\n",
        "df[    ]\n"
      ],
      "metadata": {
        "id": "UfBxTag0hciA"
      },
      "execution_count": null,
      "outputs": []
    },
    {
      "cell_type": "code",
      "source": [
        "#'이름'과 '학교'컬럼만 출력할 수 있도록 아래 코드를 작성하세요.\n",
        "# 힌트 - 2개 이상의 컬럼을 출력할때에는 원하는 컬럼들을 리스트 형태로 전달합니다.\n",
        "\n",
        "df[     ]\n"
      ],
      "metadata": {
        "id": "IlFIbC__hwPS"
      },
      "execution_count": null,
      "outputs": []
    },
    {
      "cell_type": "code",
      "source": [
        "# '이름' 컬럼명을 'name'으로 변경하고, '학교' 컬럼명을 'school'로 변경해보세요.\n",
        "# 나머지 컬럼은 변경하지 않아야하며 원본 데이터는 변경되지 않아야 합니다.\n",
        "# 힌트 - inplace =True 를 작성하지 말고, 코드 작성 후 실행만 하세요.\n",
        "\n",
        "df.rename(    )\n"
      ],
      "metadata": {
        "id": "uXzLtCcUiBo4"
      },
      "execution_count": null,
      "outputs": []
    },
    {
      "cell_type": "code",
      "source": [
        "# 먼저, 채치수부터 윤대협까지 1번부터 8번까지의 인덱스를 지정하세요.\n",
        "# 그다음 1번~8번까지의 인덱스 이름을 '학번'으로 지정하세요.\n",
        "\n",
        "df.index=[   ]\n",
        "df.index.name=\n",
        "\n",
        "\n",
        "######### 아래는 건드리지 마세요 #########\n",
        "\n",
        "df # 데이터프레임을 출력하는 코드"
      ],
      "metadata": {
        "id": "toMfX1Fbi9SR"
      },
      "execution_count": null,
      "outputs": []
    },
    {
      "cell_type": "code",
      "source": [
        "# 채치수, 송태섭 학생의 인덱스를 이용하여 이름과 국어 점수를 출력하세요.\n",
        "\n",
        "df.loc[        ]\n"
      ],
      "metadata": {
        "id": "zFrMNQLBmpBw"
      },
      "execution_count": null,
      "outputs": []
    },
    {
      "cell_type": "code",
      "source": [
        "# 인덱스를 이용하여 강백호 학생의 전체 데이터를 출력하세요.\n",
        "\n",
        "df.loc[         ]\n"
      ],
      "metadata": {
        "id": "0cYAttdWnsWO"
      },
      "execution_count": null,
      "outputs": []
    },
    {
      "cell_type": "code",
      "source": [
        "# 강백호학생부터 윤대협학생까지의 '이름','학교','키'를 모두 출력하세요\n",
        "\n",
        "df.loc[         ]\n"
      ],
      "metadata": {
        "id": "ddvSjs1an6hV"
      },
      "execution_count": null,
      "outputs": []
    },
    {
      "cell_type": "markdown",
      "source": [
        "# 데이터 확인하기 (csv 파일 이용)\n"
      ],
      "metadata": {
        "id": "2vnQ5mGi9PB8"
      }
    },
    {
      "cell_type": "code",
      "source": [
        "# 깃허브에서 exam.csv 파일을 다운로드 후 코랩에 파일을 업로드합니다.\n",
        "# exam.csv 파일 불러오기\n",
        "\n",
        "df_exam =\n",
        "\n"
      ],
      "metadata": {
        "id": "z77hkiTukrAQ"
      },
      "execution_count": null,
      "outputs": []
    },
    {
      "cell_type": "code",
      "source": [
        "# df_exam의 전체 행과 열의 개수를 출력하세요.\n",
        "\n",
        "\n"
      ],
      "metadata": {
        "id": "M2OhFmOS8ro7"
      },
      "execution_count": null,
      "outputs": []
    },
    {
      "cell_type": "code",
      "source": [
        "# df_exam의 전체 컬럼을 출력하세요.\n",
        "\n",
        "\n"
      ],
      "metadata": {
        "id": "v8P_z6799KgT"
      },
      "execution_count": null,
      "outputs": []
    },
    {
      "cell_type": "code",
      "source": [
        "# df.head()를 이용하여 파일 중 처음 6개의 행(row)를 출력하세요.\n",
        "\n",
        "\n"
      ],
      "metadata": {
        "id": "aUpPfxpK8jH_"
      },
      "execution_count": null,
      "outputs": []
    },
    {
      "cell_type": "code",
      "source": [
        "# df.tail()를 이용하여 파일 중 마지막 5개의 행(row)를 출력하세요.\n",
        "\n",
        "\n"
      ],
      "metadata": {
        "id": "4GOKcWF89Fiv"
      },
      "execution_count": null,
      "outputs": []
    }
  ]
}