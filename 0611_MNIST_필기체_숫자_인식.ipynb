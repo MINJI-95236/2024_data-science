{
  "nbformat": 4,
  "nbformat_minor": 0,
  "metadata": {
    "colab": {
      "provenance": [],
      "authorship_tag": "ABX9TyPqdWq70eNtFx5GyCqrnRCx",
      "include_colab_link": true
    },
    "kernelspec": {
      "name": "python3",
      "display_name": "Python 3"
    },
    "language_info": {
      "name": "python"
    }
  },
  "cells": [
    {
      "cell_type": "markdown",
      "metadata": {
        "id": "view-in-github",
        "colab_type": "text"
      },
      "source": [
        "<a href=\"https://colab.research.google.com/github/MINJI-95236/2024_data-science/blob/main/0611_MNIST_%ED%95%84%EA%B8%B0%EC%B2%B4_%EC%88%AB%EC%9E%90_%EC%9D%B8%EC%8B%9D.ipynb\" target=\"_parent\"><img src=\"https://colab.research.google.com/assets/colab-badge.svg\" alt=\"Open In Colab\"/></a>"
      ]
    },
    {
      "cell_type": "code",
      "source": [
        "# 필요한 라이브러리 불러오기\n",
        "import tensorflow as tf\n",
        "from tensorflow import keras #텐서플로우 라이브러리에서 keras 모듈을 가져온다는 의미입니다./ keras는 딥러닝 모델을 쉽게 구축하고 학습시키기 위한 고수준의 API\n",
        "\n",
        "# MNIST 데이터셋 불러오기\n",
        "mnist = keras.datasets.mnist\n",
        "(train_images, train_labels), (test_images, test_labels) = mnist.load_data()\n",
        "\n",
        "# 데이터 전처리: 이미지를 0-1 범위로 정규화\n",
        "train_images = train_images / 255.0\n",
        "test_images = test_images / 255.0\n",
        "\n",
        "# 이미지 데이터 확인\n",
        "print(\"Training data shape:\", train_images.shape)\n",
        "print(\"Test data shape:\", test_images.shape)\n",
        "print(\"Sample training label:\", train_labels[0])\n"
      ],
      "metadata": {
        "colab": {
          "base_uri": "https://localhost:8080/"
        },
        "id": "X9TYg_O0W2-3",
        "outputId": "31b7383a-d672-4d56-9115-420b665dd951"
      },
      "execution_count": null,
      "outputs": [
        {
          "output_type": "stream",
          "name": "stdout",
          "text": [
            "Downloading data from https://storage.googleapis.com/tensorflow/tf-keras-datasets/mnist.npz\n",
            "11490434/11490434 [==============================] - 0s 0us/step\n",
            "Training data shape: (60000, 28, 28)\n",
            "Test data shape: (10000, 28, 28)\n",
            "Sample training label: 5\n"
          ]
        }
      ]
    },
    {
      "cell_type": "code",
      "source": [
        "model = keras.models.Sequential([\n",
        "    keras.layers.Flatten(input_shape=(28, 28)),  # 이미지를 일렬로 펴주는 레이어\n",
        "    keras.layers.Dense(128, activation='relu'),  # 뉴런 128개를 가진 레이어\n",
        "    keras.layers.Dense(10, activation='softmax')  # 0부터 9까지 숫자 중 하나로 판단\n",
        "])\n"
      ],
      "metadata": {
        "id": "VShLJVwc1vrz"
      },
      "execution_count": null,
      "outputs": []
    },
    {
      "cell_type": "code",
      "source": [
        "# 학습 프로세스 설정\n",
        "model.compile(optimizer='adam',\n",
        "              loss='sparse_categorical_crossentropy',\n",
        "              metrics=['accuracy'])"
      ],
      "metadata": {
        "id": "7Vf8A3O911yi"
      },
      "execution_count": null,
      "outputs": []
    },
    {
      "cell_type": "code",
      "source": [
        "model.fit(train_images, train_labels, epochs=10)"
      ],
      "metadata": {
        "colab": {
          "base_uri": "https://localhost:8080/"
        },
        "id": "-frkU8Ox12ms",
        "outputId": "8e62474d-c133-4919-c631-432e8a7acaaa"
      },
      "execution_count": null,
      "outputs": [
        {
          "output_type": "stream",
          "name": "stdout",
          "text": [
            "Epoch 1/10\n",
            "1875/1875 [==============================] - 8s 4ms/step - loss: 0.2544 - accuracy: 0.9275\n",
            "Epoch 2/10\n",
            "1875/1875 [==============================] - 5s 3ms/step - loss: 0.1100 - accuracy: 0.9681\n",
            "Epoch 3/10\n",
            "1875/1875 [==============================] - 7s 4ms/step - loss: 0.0755 - accuracy: 0.9771\n",
            "Epoch 4/10\n",
            "1875/1875 [==============================] - 5s 3ms/step - loss: 0.0567 - accuracy: 0.9823\n",
            "Epoch 5/10\n",
            "1875/1875 [==============================] - 7s 3ms/step - loss: 0.0445 - accuracy: 0.9864\n",
            "Epoch 6/10\n",
            "1875/1875 [==============================] - 5s 3ms/step - loss: 0.0346 - accuracy: 0.9897\n",
            "Epoch 7/10\n",
            "1875/1875 [==============================] - 6s 3ms/step - loss: 0.0274 - accuracy: 0.9912\n",
            "Epoch 8/10\n",
            "1875/1875 [==============================] - 6s 3ms/step - loss: 0.0212 - accuracy: 0.9937\n",
            "Epoch 9/10\n",
            "1875/1875 [==============================] - 5s 3ms/step - loss: 0.0188 - accuracy: 0.9942\n",
            "Epoch 10/10\n",
            "1875/1875 [==============================] - 7s 4ms/step - loss: 0.0160 - accuracy: 0.9950\n"
          ]
        },
        {
          "output_type": "execute_result",
          "data": {
            "text/plain": [
              "<keras.src.callbacks.History at 0x7e6039ab40d0>"
            ]
          },
          "metadata": {},
          "execution_count": 5
        }
      ]
    },
    {
      "cell_type": "code",
      "source": [
        "# 모델 평가\n",
        "test_loss, test_acc = model.evaluate(test_images, test_labels, verbose=2)\n",
        "print('\\nTest accuracy:', test_acc)\n"
      ],
      "metadata": {
        "colab": {
          "base_uri": "https://localhost:8080/"
        },
        "id": "XuaHfRGpU_ZF",
        "outputId": "f74fa4e3-9b17-47c7-97e2-2fcf9c9dce75"
      },
      "execution_count": null,
      "outputs": [
        {
          "output_type": "stream",
          "name": "stdout",
          "text": [
            "313/313 - 1s - loss: 0.0768 - accuracy: 0.9802 - 569ms/epoch - 2ms/step\n",
            "\n",
            "Test accuracy: 0.9801999926567078\n"
          ]
        }
      ]
    },
    {
      "cell_type": "code",
      "source": [
        "# 예측 수행\n",
        "predictions = model.predict(test_images)\n",
        "\n",
        "# 첫 번째 이미지의 예측 결과 확인\n",
        "print(\"Prediction for first test image:\", predictions[0])\n",
        "print(\"True label for first test image:\", test_labels[0])\n",
        "# 가장 높은 확률을 가진 클래스 출력\n",
        "import numpy as np\n",
        "print(\"Predicted class for first test image:\", np.argmax(predictions[0]))\n"
      ],
      "metadata": {
        "colab": {
          "base_uri": "https://localhost:8080/"
        },
        "id": "Bl_MuZOuVE_4",
        "outputId": "cf17810f-4d98-4d2b-f61f-7e938c175fe0"
      },
      "execution_count": null,
      "outputs": [
        {
          "output_type": "stream",
          "name": "stdout",
          "text": [
            "313/313 [==============================] - 1s 2ms/step\n",
            "Prediction for first test image: [8.0223495e-11 8.3021184e-10 7.2510393e-09 7.8425137e-06 6.5254643e-13\n",
            " 4.1675902e-10 6.0287427e-16 9.9999207e-01 3.7891138e-11 3.5842245e-08]\n",
            "True label for first test image: 7\n",
            "Predicted class for first test image: 7\n"
          ]
        }
      ]
    },
    {
      "cell_type": "code",
      "source": [
        "import matplotlib.pyplot as plt\n",
        "\n",
        "# 첫 번째 5개 이미지와 예측 결과 시각화\n",
        "num_images = 5\n",
        "plt.figure(figsize=(10, 10))\n",
        "for i in range(num_images):\n",
        "    plt.subplot(5, 2, 2 * i + 1)\n",
        "    plt.imshow(test_images[i], cmap=plt.cm.binary) #test_images[i]를 흑백으로 시각화\n",
        "    plt.title(f\"True: {test_labels[i]}, Pred: {np.argmax(predictions[i])}\")\n",
        "    plt.axis('off')\n",
        "plt.tight_layout()\n",
        "plt.show()\n"
      ],
      "metadata": {
        "colab": {
          "base_uri": "https://localhost:8080/",
          "height": 1000
        },
        "id": "TMFlrPUCVyRM",
        "outputId": "ba88dc65-132e-4c73-9be6-79aca6141c5a"
      },
      "execution_count": null,
      "outputs": [
        {
          "output_type": "display_data",
          "data": {
            "text/plain": [
              "<Figure size 1000x1000 with 5 Axes>"
            ],
            "image/png": "[encoded data removed]"
          },
          "metadata": {}
        }
      ]
    }
  ]
}