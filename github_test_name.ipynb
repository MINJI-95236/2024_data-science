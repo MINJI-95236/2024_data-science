{
  "nbformat": 4,
  "nbformat_minor": 0,
  "metadata": {
    "colab": {
      "provenance": [],
      "authorship_tag": "ABX9TyPPoCpPphVRDH39LhcaZlcq",
      "include_colab_link": true
    },
    "kernelspec": {
      "name": "python3",
      "display_name": "Python 3"
    },
    "language_info": {
      "name": "python"
    }
  },
  "cells": [
    {
      "cell_type": "markdown",
      "metadata": {
        "id": "view-in-github",
        "colab_type": "text"
      },
      "source": [
        "<a href=\"https://colab.research.google.com/github/MINJI-95236/2024_data-science/blob/main/github_test_name.ipynb\" target=\"_parent\"><img src=\"https://colab.research.google.com/assets/colab-badge.svg\" alt=\"Open In Colab\"/></a>"
      ]
    },
    {
      "cell_type": "markdown",
      "source": [
        "변수 a에는 숫자 8을, 변수 b에는 문자열 'Daejeon'을 할당하고, 그 값을 각각 출력하세요."
      ],
      "metadata": {
        "id": "bQ6V4-r5V1op"
      }
    },
    {
      "cell_type": "code",
      "execution_count": null,
      "metadata": {
        "id": "qVEls6tsVBI5"
      },
      "outputs": [],
      "source": [
        "a =\n",
        "b =\n",
        "print(  )\n",
        "print(  )"
      ]
    }
  ]
}