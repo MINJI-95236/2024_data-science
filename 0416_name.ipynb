{
  "nbformat": 4,
  "nbformat_minor": 0,
  "metadata": {
    "colab": {
      "provenance": [],
      "authorship_tag": "ABX9TyMXNJ8YJ5zQgTg5d7dtuwHl",
      "include_colab_link": true
    },
    "kernelspec": {
      "name": "python3",
      "display_name": "Python 3"
    },
    "language_info": {
      "name": "python"
    }
  },
  "cells": [
    {
      "cell_type": "markdown",
      "metadata": {
        "id": "view-in-github",
        "colab_type": "text"
      },
      "source": [
        "<a href=\"https://colab.research.google.com/github/MINJI-95236/2024_data-science/blob/main/0416_name.ipynb\" target=\"_parent\"><img src=\"https://colab.research.google.com/assets/colab-badge.svg\" alt=\"Open In Colab\"/></a>"
      ]
    },
    {
      "cell_type": "code",
      "source": [
        "#아래 코드를 바로 실행해주세요.\n",
        "\n",
        "import pandas as pd\n",
        "\n",
        "df = pd.read_csv('student.csv', index_col='지원번호')\n",
        "\n",
        "df"
      ],
      "metadata": {
        "id": "Kxxb-VBkkxfI"
      },
      "execution_count": 44,
      "outputs": []
    },
    {
      "cell_type": "code",
      "source": [
        "#df.info() 를 이용하여 데이터에 들어있는 변수들의 속성을 출력하세요.\n",
        "\n"
      ],
      "metadata": {
        "id": "bJ-XgvBxmbyE"
      },
      "execution_count": null,
      "outputs": []
    },
    {
      "cell_type": "code",
      "source": [
        "# 데이터 프레임 내 결측치를 조회하세요.\n",
        "\n"
      ],
      "metadata": {
        "id": "Z0EhPhd9oaXH"
      },
      "execution_count": null,
      "outputs": []
    },
    {
      "cell_type": "code",
      "source": [
        "# 결측치를 제거하지 않고 데이터를 채워보겠습니다.\n",
        "# 원본 데이터 프레임에 SW특기의 결측치를 '없음'으로  채워주세요.\n",
        "\n",
        "\n",
        "\n",
        "\n",
        "\n",
        "###아래 코드는 건드리지 마세요##\n",
        "\n",
        "df  #전체 데이터프레임 출력"
      ],
      "metadata": {
        "id": "VEaVIqA8pV1j"
      },
      "execution_count": null,
      "outputs": []
    },
    {
      "cell_type": "code",
      "source": [
        "# '이름'을 기준으로 오름차순으로 원본 데이터프레임을 정렬해주세요.\n",
        "\n",
        "\n",
        "\n",
        "\n",
        "\n",
        "###아래 코드는 건드리지 마세요##\n",
        "\n",
        "df  #전체 데이터프레임 출력"
      ],
      "metadata": {
        "id": "ZgmaJOSlsvjO"
      },
      "execution_count": null,
      "outputs": []
    },
    {
      "cell_type": "code",
      "source": [
        "#키가 190cm 이상이면서 북산고를 다니는 학생의 이름을 출력하세요.\n",
        "#df.loc[]와 and 조건을 이용해야합니다.\n",
        "\n",
        "\n"
      ],
      "metadata": {
        "id": "YWFm3BPPqKcp"
      },
      "execution_count": null,
      "outputs": []
    },
    {
      "cell_type": "code",
      "source": [
        "# df.iloc[]를 이용하여 지원번호 '1번'의 행에서 'SW특기' 컬럼에 해당하는 데이터를 출력하세요.\n",
        "\n",
        "\n",
        "\n"
      ],
      "metadata": {
        "id": "e5BjIIWDqsk5"
      },
      "execution_count": null,
      "outputs": []
    }
  ]
}