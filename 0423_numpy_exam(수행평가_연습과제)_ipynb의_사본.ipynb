{
  "nbformat": 4,
  "nbformat_minor": 0,
  "metadata": {
    "colab": {
      "provenance": [],
      "authorship_tag": "ABX9TyMdaJKtSH1hMdhloqjPTMbF",
      "include_colab_link": true
    },
    "kernelspec": {
      "name": "python3",
      "display_name": "Python 3"
    },
    "language_info": {
      "name": "python"
    }
  },
  "cells": [
    {
      "cell_type": "markdown",
      "metadata": {
        "id": "view-in-github",
        "colab_type": "text"
      },
      "source": [
        "<a href=\"https://colab.research.google.com/github/MINJI-95236/2024_data-science/blob/main/0423_numpy_exam(%EC%88%98%ED%96%89%ED%8F%89%EA%B0%80_%EC%97%B0%EC%8A%B5%EA%B3%BC%EC%A0%9C)_ipynb%EC%9D%98_%EC%82%AC%EB%B3%B8.ipynb\" target=\"_parent\"><img src=\"https://colab.research.google.com/assets/colab-badge.svg\" alt=\"Open In Colab\"/></a>"
      ]
    },
    {
      "cell_type": "markdown",
      "source": [
        "# 1. 데이터를 분석하는 데 필요한 패키지인 numpy를 불러와주세요."
      ],
      "metadata": {
        "id": "MqXlpa2JH-To"
      }
    },
    {
      "cell_type": "code",
      "source": [
        "import numpy as np"
      ],
      "metadata": {
        "id": "Z8osOvSmICJk"
      },
      "execution_count": 2,
      "outputs": []
    },
    {
      "cell_type": "markdown",
      "source": [
        "# 아래 출력 결과와 동일한 배열을 생성하고, 이를 'z' 변수에 할당하세요. 그리고 print()를 이용하여 출력하세요."
      ],
      "metadata": {
        "id": "DsEB7T-WG3e9"
      }
    },
    {
      "cell_type": "code",
      "source": [
        "z = np.zeros([7,3])\n",
        "\n",
        "#7행 3열\n",
        "print(z)"
      ],
      "metadata": {
        "id": "RlYr4FbmUJYI",
        "colab": {
          "base_uri": "https://localhost:8080/"
        },
        "outputId": "083b2778-3469-4d46-f604-658fc19adb4b"
      },
      "execution_count": 4,
      "outputs": [
        {
          "output_type": "stream",
          "name": "stdout",
          "text": [
            "[[0. 0. 0.]\n",
            " [0. 0. 0.]\n",
            " [0. 0. 0.]\n",
            " [0. 0. 0.]\n",
            " [0. 0. 0.]\n",
            " [0. 0. 0.]\n",
            " [0. 0. 0.]]\n"
          ]
        }
      ]
    },
    {
      "cell_type": "markdown",
      "source": [
        "#아래 출력 결과와 동일한 배열을 생성하고, 이를 o(소문자 알파벳) 변수에 할당하세요. 그리고 print()를 이용하여 출력하세요."
      ],
      "metadata": {
        "id": "8bJsthzjOEYF"
      }
    },
    {
      "cell_type": "code",
      "source": [
        "o = np.ones([5,3])\n",
        "\n",
        "print(o)\n",
        "\n",
        "#5행 3열"
      ],
      "metadata": {
        "colab": {
          "base_uri": "https://localhost:8080/"
        },
        "id": "WrRcD9udOLuk",
        "outputId": "fea32f72-d59d-4381-d4eb-2748ed3b0675"
      },
      "execution_count": 5,
      "outputs": [
        {
          "output_type": "stream",
          "name": "stdout",
          "text": [
            "[[1. 1. 1.]\n",
            " [1. 1. 1.]\n",
            " [1. 1. 1.]\n",
            " [1. 1. 1.]\n",
            " [1. 1. 1.]]\n"
          ]
        }
      ]
    },
    {
      "cell_type": "markdown",
      "source": [
        "# 아래 출력 결과와 동일한 배열을 생성하고, 이를 'f' 변수에 할당하세요. 그리고 print()를 이용하여 출력하세요."
      ],
      "metadata": {
        "id": "QXtZDFEeUJHv"
      }
    },
    {
      "cell_type": "code",
      "source": [
        "f = np.full((4,2) ,8)\n",
        "#4행 2열\n",
        "\n",
        "print(f)"
      ],
      "metadata": {
        "id": "MR5d0x5uUVQh",
        "colab": {
          "base_uri": "https://localhost:8080/"
        },
        "outputId": "283bcb8f-6a51-4859-b8f1-511fb6daceab"
      },
      "execution_count": 6,
      "outputs": [
        {
          "output_type": "stream",
          "name": "stdout",
          "text": [
            "[[8 8]\n",
            " [8 8]\n",
            " [8 8]\n",
            " [8 8]]\n"
          ]
        }
      ]
    },
    {
      "cell_type": "markdown",
      "source": [
        "# 4부터 11(포함)까지의 모든 연속 정수를 포함하는 1차원 배열을 생성하고, 이를 'arr_1' 변수에 할당하세요. 그리고 print()를 이용하여 출력하세요."
      ],
      "metadata": {
        "id": "zJbqQNw0IVsl"
      }
    },
    {
      "cell_type": "code",
      "execution_count": 8,
      "metadata": {
        "id": "BJhn-KUQVYJh",
        "colab": {
          "base_uri": "https://localhost:8080/"
        },
        "outputId": "1d4a0208-cfa8-4f65-8273-f8af1f1e87f7"
      },
      "outputs": [
        {
          "output_type": "stream",
          "name": "stdout",
          "text": [
            "[ 4  5  6  7  8  9 10 11]\n"
          ]
        }
      ],
      "source": [
        "#arange()\n",
        "arr_1 =np.arange(4,12)\n",
        "print(arr_1)"
      ]
    },
    {
      "cell_type": "markdown",
      "source": [
        "#위에서 생성한 1차원 배열 arr 을 4행 2열의 2차원 배열로 형태를 변경하여 반환하세요. 2차원 배열은 변수 arr_2 에 할당하세요. 그리고 print()를 이용하여 출력하세요."
      ],
      "metadata": {
        "id": "kl3VEwDwJrnV"
      }
    },
    {
      "cell_type": "code",
      "source": [
        "#reshape(4,2)\n",
        "\n",
        "arr_2 = arr_1.reshape(4,2)\n",
        "print(arr_2)"
      ],
      "metadata": {
        "colab": {
          "base_uri": "https://localhost:8080/"
        },
        "id": "ELND2Z2GJ156",
        "outputId": "6f323235-2713-49a0-bfb8-437c2f6d6d2e"
      },
      "execution_count": 9,
      "outputs": [
        {
          "output_type": "stream",
          "name": "stdout",
          "text": [
            "[[ 4  5]\n",
            " [ 6  7]\n",
            " [ 8  9]\n",
            " [10 11]]\n"
          ]
        }
      ]
    },
    {
      "cell_type": "markdown",
      "source": [
        "# 2부터 시작하여 10(포함)까지 2씩 증가하는 원소로 이루어지는 1차원 배열을 생성하고, 이를 변수 a에 할당하세요. 그리고 print()를 이용하여 출력하세요."
      ],
      "metadata": {
        "id": "IaTSvwO7KX6T"
      }
    },
    {
      "cell_type": "code",
      "source": [
        "#step = 2\n",
        "\n",
        "a = np.arange(2, 11, 2)\n",
        "print(a)"
      ],
      "metadata": {
        "colab": {
          "base_uri": "https://localhost:8080/"
        },
        "id": "oLYUa0FBLBgf",
        "outputId": "f67d8f36-6d38-444f-dfb1-a427ab407a63"
      },
      "execution_count": 10,
      "outputs": [
        {
          "output_type": "stream",
          "name": "stdout",
          "text": [
            "[ 2  4  6  8 10]\n"
          ]
        }
      ]
    },
    {
      "cell_type": "markdown",
      "source": [
        "# 생성한 배열  a에서 마지막 원소를 인덱스를 사용하여 출력하세요."
      ],
      "metadata": {
        "id": "fUDWofz_LGLV"
      }
    },
    {
      "cell_type": "code",
      "source": [
        "# 1번 a[0]\n",
        "# 2번 a[-1]\n",
        "# 3번 a[1]\n",
        "print( a[-1])\n",
        "#만약에 생성한 배열 a에서 원소 4를 출력하고 싶다\n",
        "print(a[1])"
      ],
      "metadata": {
        "colab": {
          "base_uri": "https://localhost:8080/"
        },
        "id": "jBdcWqR_LbBf",
        "outputId": "e642834e-a03d-4004-899a-4ffbc141c696"
      },
      "execution_count": 12,
      "outputs": [
        {
          "output_type": "stream",
          "name": "stdout",
          "text": [
            "10\n",
            "4\n"
          ]
        }
      ]
    },
    {
      "cell_type": "markdown",
      "source": [
        "# 아래 출력 결과는 1차원 배열 a를 슬라이싱한 결과입니다. 동일한 결과를 얻을 수 있도록 코드를 작성하세요."
      ],
      "metadata": {
        "id": "af0EGAJ-OcVs"
      }
    },
    {
      "cell_type": "code",
      "source": [
        "print(a[3:  ])\n",
        "print(a[-2: ])"
      ],
      "metadata": {
        "colab": {
          "base_uri": "https://localhost:8080/"
        },
        "id": "Flh6b2rOObx6",
        "outputId": "03ed9af2-08e8-45b0-f249-ad87d826c250"
      },
      "execution_count": 14,
      "outputs": [
        {
          "output_type": "stream",
          "name": "stdout",
          "text": [
            "[ 8 10]\n"
          ]
        }
      ]
    },
    {
      "cell_type": "markdown",
      "source": [
        "# 아래 출력 결과와 동일하게 6부터 시작하여 29(포함)까지의 모든 연속 정수를 포함하는 2차원 배열을 생성하고, 이를 변수 b에 할당하세요. 그리고 print()를 이용하여 출력하세요."
      ],
      "metadata": {
        "id": "-au3_e3qLrnr"
      }
    },
    {
      "cell_type": "markdown",
      "source": [
        "* 조건: arange( )와 reshape( )를 사용해야합니다."
      ],
      "metadata": {
        "id": "vTVrIg8nMijT"
      }
    },
    {
      "cell_type": "code",
      "source": [
        "b = np.arange(6,30).reshape(6,4)\n",
        "print(b)"
      ],
      "metadata": {
        "colab": {
          "base_uri": "https://localhost:8080/"
        },
        "id": "MeAMGiUULirw",
        "outputId": "26506af1-7113-4de5-9726-acc0cbfa25ca"
      },
      "execution_count": 15,
      "outputs": [
        {
          "output_type": "stream",
          "name": "stdout",
          "text": [
            "[[ 6  7  8  9]\n",
            " [10 11 12 13]\n",
            " [14 15 16 17]\n",
            " [18 19 20 21]\n",
            " [22 23 24 25]\n",
            " [26 27 28 29]]\n"
          ]
        }
      ]
    },
    {
      "cell_type": "markdown",
      "source": [
        "# 아래 출력 결과는 생성된 2차원 배열 b를 슬라이싱한 결과입니다. 동일한 결과를 얻을 수 있도록 코드를 작성하세요."
      ],
      "metadata": {
        "id": "Q7wlZAzZMtDb"
      }
    },
    {
      "cell_type": "code",
      "source": [
        "print(b[1:3, 1:3])"
      ],
      "metadata": {
        "colab": {
          "base_uri": "https://localhost:8080/"
        },
        "id": "K91KxkFhMtoz",
        "outputId": "281a1665-fc2e-41ff-c9be-4a09e8b38d23"
      },
      "execution_count": 16,
      "outputs": [
        {
          "output_type": "stream",
          "name": "stdout",
          "text": [
            "[[11 12]\n",
            " [15 16]]\n"
          ]
        }
      ]
    }
  ]
}